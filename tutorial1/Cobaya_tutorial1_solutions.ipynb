{
  "cells": [
    {
      "cell_type": "code",
      "execution_count": null,
      "metadata": {
        "id": "euLN2RzvQRRB"
      },
      "outputs": [],
      "source": [
        "# General python imports\n",
        "import numpy as np\n",
        "import matplotlib.pyplot as plt\n",
        "from scipy import stats\n",
        "\n",
        "%matplotlib inline\n",
        "%config InlineBackend.figure_format = 'retina'"
      ]
    },
    {
      "cell_type": "code",
      "source": [
        "!pip install cobaya"
      ],
      "metadata": {
        "id": "WCqE0HhBQaTO"
      },
      "execution_count": null,
      "outputs": []
    },
    {
      "cell_type": "markdown",
      "metadata": {
        "id": "e1ZMTA_MQRRD"
      },
      "source": [
        "# Attention:\n",
        "\n",
        "Keep always the Cobaya documentation open: https://cobaya.readthedocs.io"
      ]
    },
    {
      "cell_type": "markdown",
      "metadata": {
        "id": "QxJALo30QRRE"
      },
      "source": [
        "# Exercise 1:\n",
        "\n",
        "### Use the Metropolis-Hastings MCMC sampler of Cobaya to sample a simple posterior distribution\n",
        "\n",
        "In this exercise, we aim to sample the posterior distribution corresponding to the product of a gaussian mixture likelihood in Cobaya (see https://cobaya.readthedocs.io/en/latest/likelihood_gaussian_mixture.html) using simple priors for the parameters.\n",
        "\n",
        "For that, you need to fill up the blocks `likelihood`, `params` and `sampler` of the configuration dictionary and then run Cobaya."
      ]
    },
    {
      "cell_type": "code",
      "execution_count": null,
      "metadata": {
        "id": "Vaj7b4-2QRRF"
      },
      "outputs": [],
      "source": [
        "# Fill the configuration dictionary called 'info' below\n",
        "\n",
        "info = {\n",
        "# We import the likelihood from Cobaya likelihood libraries\n",
        "#'likelihood': Cobaya's protected key of the input dictionary:\n",
        "    \"likelihood\": {\n",
        "        \"gaussian_mixture\": {\n",
        "            \"means\": [0.2, 0],\n",
        "            \"covs\": [[0.1, 0.05],\n",
        "                     [0.05, 0.2]],\n",
        "            \"derived\": True}},\n",
        "#'params': Cobaya's protected key of the input dictionary.\n",
        "# Includes the parameters that the user would like to sample over:\n",
        "    \"params\": dict([\n",
        "        (\"a\", {\n",
        "            \"prior\": {\"min\": -0.5, \"max\": 3},\n",
        "            \"latex\": r\"\\alpha\"}),\n",
        "        (\"b\", {\n",
        "            \"prior\": {\"dist\": \"norm\", \"loc\": 0, \"scale\": 1},\n",
        "            \"ref\": 0,\n",
        "            \"proposal\": 0.5,\n",
        "            \"latex\": r\"\\beta\"}),\n",
        "        (\"hyperparam_a\", {\n",
        "            \"latex\": r\"\\alpha^\\prime\"}),\n",
        "        (\"derived_b\", {\n",
        "            \"latex\": r\"\\beta^\\prime\"})]),\n",
        "# 'sampler': Cobaya's protected key of the input dictionary.\n",
        "# you can choose the sampler you want to use.\n",
        "# Check Cobaya's documentation to see the list of available samplers\n",
        "    \"sampler\": {\n",
        "        \"mcmc\": None},\n",
        "# 'force': Cobaya's protected key of the input dictionary.\n",
        "# 'force': True, Cobaya forces deleting the previous output files, if found, with the same name\n",
        "    \"force\": True,\n",
        "# 'debug': Cobaya's protected key of the input dictionary.\n",
        "# how much information you want Cobaya to print? If debug: True, it prints every single detail\n",
        "# that is going on internally in Cobaya\n",
        "    \"debug\": False,\n",
        "# 'output': Cobaya's protected key of the input dictionary.\n",
        "# Where are the results going to be stored, in case that the sampler produce output files?\n",
        "# For example: chains...\n",
        "# modify the path below within 'output' to choose a name and a directory for those files\n",
        "    \"output\": \"chains_exercise1\"}"
      ]
    },
    {
      "cell_type": "code",
      "execution_count": null,
      "metadata": {
        "scrolled": true,
        "id": "bUyBoLi6QRRF"
      },
      "outputs": [],
      "source": [
        "#  We import Cobaya\n",
        "from cobaya.run import run\n",
        "# Now we run!\n",
        "updated_info, sampler = run(info)"
      ]
    },
    {
      "cell_type": "markdown",
      "metadata": {
        "id": "3dJUfgTDQRRG"
      },
      "source": [
        "### Plot the corresponding distribution using GetDist\n",
        "\n",
        "Do not forget to open the GetDist html DEMO: https://getdist.readthedocs.io/en/latest/plot_gallery.html"
      ]
    },
    {
      "cell_type": "code",
      "execution_count": null,
      "metadata": {
        "id": "--x8SEuPQRRG"
      },
      "outputs": [],
      "source": [
        "# Import corresponding modules from GetDist\n",
        "from getdist.mcsamples import loadMCSamples, MCSamplesFromCobaya\n",
        "import getdist.plots as gdplt\n",
        "\n",
        "# Load the chains and the updated config file from the previous run\n",
        "gd_sample = MCSamplesFromCobaya(updated_info, sampler.products()[\"sample\"])\n",
        "\n",
        "# Analyze the chains (print the mean and covmat according to GetDist documentation)\n",
        "mean = gd_sample.getMeans()[:2]\n",
        "covmat = gd_sample.getCovMat().matrix[:2, :2]\n",
        "print(\"Mean:\")\n",
        "print(mean)\n",
        "print(\"Covariance matrix:\")\n",
        "print(covmat)\n",
        "\n",
        "# PLOT THE CHAINS (have a look at the DEMO above from GetDist)\n",
        "# The goal is to produce a triangle plot\n",
        "\n",
        "plt.figure()\n",
        "gdplot = gdplt.get_subplot_plotter()\n",
        "gdplot.triangle_plot(gd_sample, [\"a\", \"b\"], filled=True)\n",
        "plt.show()"
      ]
    },
    {
      "cell_type": "markdown",
      "metadata": {
        "id": "ErZ0Nv6CQRRG"
      },
      "source": [
        "### Now, let's change the likelihood above by a new gaussian ring likelihood defined on cartesian coordinates\n",
        "\n",
        "Cobaya allows to pass self-defined likelihoods as likelihoods of the `likelihood` block."
      ]
    },
    {
      "cell_type": "code",
      "execution_count": null,
      "metadata": {
        "id": "_EoejGysQRRG"
      },
      "outputs": [],
      "source": [
        "# We define the new likelihood as a python function\n",
        "# ATTENTION: Cobaya always needs to return the loglike!\n",
        "\n",
        "def gauss_ring_logp(x, y, mean_radius=1, std=0.02):\n",
        "    \"\"\"\n",
        "    Defines a gaussian ring likelihood on cartesian coordinater,\n",
        "    around some ``mean_radius`` and with some ``std``.\n",
        "    \"\"\"\n",
        "    return stats.norm.logpdf(np.sqrt(x**2 + y**2), loc=mean_radius, scale=std)"
      ]
    },
    {
      "cell_type": "code",
      "execution_count": null,
      "metadata": {
        "id": "zo_nktJjQRRH"
      },
      "outputs": [],
      "source": [
        "# Let's update the new likelihood in the info dictionary above\n",
        "\n",
        "info = {\"likelihood\": {\"ring\": gauss_ring_logp}}"
      ]
    },
    {
      "cell_type": "code",
      "execution_count": null,
      "metadata": {
        "id": "blwk2RSRQRRH"
      },
      "outputs": [],
      "source": [
        "# The new likelihood requests two new parameters: x and y\n",
        "# Therefore, we need to define them in the params block of the info dictionary above adding a new prior\n",
        "\n",
        "info[\"params\"] = {\n",
        "    \"x\": {\"prior\": {\"min\": 0, \"max\": 2}, \"ref\": 0.5, \"proposal\": 0.01},\n",
        "    \"y\": {\"prior\": {\"min\": 0, \"max\": 2}, \"ref\": 0.5, \"proposal\": 0.01}}"
      ]
    },
    {
      "cell_type": "code",
      "execution_count": null,
      "metadata": {
        "id": "RyGPu9waQRRH"
      },
      "outputs": [],
      "source": [
        "# We add the polar coordinates theta and radius as derived parameters within the params block\n",
        "\n",
        "def get_r(x, y):\n",
        "    return np.sqrt(x ** 2 + y ** 2)\n",
        "\n",
        "\n",
        "def get_theta(x, y):\n",
        "    return np.arctan(y / x)\n",
        "\n",
        "info[\"params\"][\"r\"] = {\"derived\": get_r}\n",
        "info[\"params\"][\"theta\"] = {\"derived\": get_theta,\n",
        "                           \"latex\": r\"\\theta\", \"min\": 0, \"max\": np.pi/2}"
      ]
    },
    {
      "cell_type": "code",
      "execution_count": null,
      "metadata": {
        "id": "m1FtnP4oQRRH"
      },
      "outputs": [],
      "source": [
        "# We add some new conditions in the sampler block, to give extra tries in case the mcmc gets stuck\n",
        "\n",
        "info[\"sampler\"] = {\"mcmc\": {\"Rminus1_stop\": 0.001, \"max_tries\": 1000}}\n",
        "\n",
        "# Re-run cobaya as we did above!\n",
        "updated_info, sampler = run(info)"
      ]
    },
    {
      "cell_type": "markdown",
      "metadata": {
        "id": "pUCyNwBbQRRI"
      },
      "source": [
        "### Replot the chains using GetDist\n",
        "\n",
        "We aim to create two triangle plots: one for the cartesian coordinates x and y, and another for the polar coordinates theta and radius"
      ]
    },
    {
      "cell_type": "code",
      "execution_count": null,
      "metadata": {
        "id": "gdijYyJXQRRI"
      },
      "outputs": [],
      "source": [
        "# Load the chains and the updated config file from the previous run\n",
        "# Make two triangle plots: one for the cartesian coordinates x and y,\n",
        "# and a different triangle plot for the radius and angle theta\n",
        "\n",
        "# Load the chains and the updated config file from the previous run\n",
        "gdsamples = MCSamplesFromCobaya(updated_info, sampler.products()[\"sample\"])\n",
        "\n",
        "gdplot_cartesian = gdplt.get_subplot_plotter(width_inch=5)\n",
        "gdplot_cartesian.triangle_plot(gdsamples, [\"x\", \"y\"], filled=True)\n",
        "plt.suptitle('Cartesian',  va='bottom')\n",
        "gdplot_polar = gdplt.get_subplot_plotter(width_inch=5)\n",
        "gdplot_polar.triangle_plot(gdsamples, [\"r\", \"theta\"], filled=True)\n",
        "plt.suptitle('Polar', va='bottom');\n",
        "plt.show()"
      ]
    },
    {
      "cell_type": "markdown",
      "metadata": {
        "id": "yjB6BaguQRRI"
      },
      "source": [
        "# Exercise 2:\n",
        "\n",
        "### Make an evaluation of the full posterior of the parameters of $\\Lambda$CDM using BAO + SN + PLANCK18\n",
        "\n",
        "In this exercise, we aim to make an evaluation of the posterior distribution of the Standard Cosmological Model parameters using BAO + SN + PLANCK18 data.\n",
        "\n",
        "For that, you need to create a new config file speciying the corresponding likelihoods, the parameters of the $\\Lambda$CDM model and specify the sampler to `evaluate`.\n",
        "\n",
        "What about the `theory` module? Do you need to specify it? What would you choose?\n",
        "\n",
        "If you feel like working, you can change the sampler `evaluate` to the sampler `mcmc` to explore the full posterior distribution. Attention: it will take around 3 or 4 days. Let it run for one night so that tomorrow you can have a look at the chains.\n",
        "\n",
        "- Check this link to see how you can define the new corresponding config file: https://cobaya.readthedocs.io/en/latest/cosmo_basic_runs.html\n",
        "- All the corresponding likelihood names are within the section “COSMOLOGICAL LIKELIHOODS” at https://cobaya.readthedocs.io/en/latest/"
      ]
    },
    {
      "cell_type": "code",
      "source": [
        "!cobaya-install cosmo -p ."
      ],
      "metadata": {
        "id": "KY0w3ioASCXz"
      },
      "execution_count": null,
      "outputs": []
    },
    {
      "cell_type": "code",
      "execution_count": null,
      "metadata": {
        "id": "TNxeL5EnQRRJ"
      },
      "outputs": [],
      "source": [
        "# You need to start by defining a new config python dictionary\n",
        "# (or if you feel brave, you can write a script like a yaml format\n",
        "# and dump it as a python dictionary)\n",
        "\n",
        "# LCDM has 6 parameters, so you need to define at least 6 parameters\n",
        "# to be sampled from within the `params` block\n",
        "\n",
        "# We start by defining a new config python dictionary called `info_cosmo`\n",
        "\n",
        "info_cosmo = {\n",
        "'likelihood': {'bao.sdss_dr16_baoplus_elg': None,\n",
        "                'bao.sdss_dr16_baoplus_lrg': None,\n",
        "                'bao.sdss_dr16_baoplus_lyauto': None,\n",
        "                'bao.sdss_dr16_baoplus_lyxqso': None,\n",
        "                'bao.sdss_dr16_baoplus_qso': None,\n",
        "                'bao.sdss_dr7_mgs': None,\n",
        "                'bao.sixdf_2011_bao': None,\n",
        "                'planck_NPIPE_highl_CamSpec.TTTEEE.TTTEEE': None,\n",
        "                'planckpr4lensing': None,\n",
        "                'planck_2018_lowl.EE': None,\n",
        "                'planck_2018_lowl.TT': None,\n",
        "                'sn.pantheon': None},\n",
        "'params': {'A': {'derived': 'lambda As: 1e9*As',\n",
        "                  'latex': '10^9 A_\\\\mathrm{s}'},\n",
        "            'As': {'latex': 'A_\\\\mathrm{s}',\n",
        "                   'value': 'lambda logA: 1e-10*np.exp(logA)'},\n",
        "            'DHBBN': {'derived': 'lambda DH: 10**5*DH',\n",
        "                      'latex': '10^5 \\\\mathrm{D}/\\\\mathrm{H}'},\n",
        "            'H0': {'latex': 'H_0', 'max': 100, 'min': 20},\n",
        "            'YHe': {'latex': 'Y_\\\\mathrm{P}'},\n",
        "            'Y_p': {'latex': 'Y_P^\\\\mathrm{BBN}'},\n",
        "            'age': {'latex': '{\\\\rm{Age}}/\\\\mathrm{Gyr}'},\n",
        "            'clamp': {'derived': 'lambda As, tau: 1e9*As*np.exp(-2*tau)',\n",
        "                      'latex': '10^9 A_\\\\mathrm{s} e^{-2\\\\tau}'},\n",
        "            'cosmomc_theta': {'derived': False,\n",
        "                              'value': 'lambda theta_MC_100: '\n",
        "                                       '1.e-2*theta_MC_100'},\n",
        "            'logA': {'drop': True,\n",
        "                     'latex': '\\\\log(10^{10} A_\\\\mathrm{s})',\n",
        "                     'prior': {'max': 3.91, 'min': 1.61},\n",
        "                     'proposal': 0.001,\n",
        "                     'ref': {'dist': 'norm', 'loc': 3.05, 'scale': 0.001}},\n",
        "            'mnu': 0.06,\n",
        "            'ns': {'latex': 'n_\\\\mathrm{s}',\n",
        "                   'prior': {'max': 1.2, 'min': 0.8},\n",
        "                   'proposal': 0.002,\n",
        "                   'ref': {'dist': 'norm', 'loc': 0.965, 'scale': 0.004}},\n",
        "            'ombh2': {'latex': '\\\\Omega_\\\\mathrm{b} h^2',\n",
        "                      'prior': {'max': 0.1, 'min': 0.005},\n",
        "                      'proposal': 0.0001,\n",
        "                      'ref': {'dist': 'norm', 'loc': 0.0224, 'scale': 0.0001}},\n",
        "            'omch2': {'latex': '\\\\Omega_\\\\mathrm{c} h^2',\n",
        "                      'prior': {'max': 0.99, 'min': 0.001},\n",
        "                      'proposal': 0.0005,\n",
        "                      'ref': {'dist': 'norm', 'loc': 0.12, 'scale': 0.001}},\n",
        "            'omega_de': {'latex': '\\\\Omega_\\\\Lambda'},\n",
        "            'omegam': {'latex': '\\\\Omega_\\\\mathrm{m}'},\n",
        "            'omegamh2': {'derived': 'lambda omegam, H0: omegam*(H0/100)**2',\n",
        "                         'latex': '\\\\Omega_\\\\mathrm{m} h^2'},\n",
        "            'rdrag': {'latex': 'r_\\\\mathrm{drag}'},\n",
        "            's8h5': {'derived': 'lambda sigma8, H0: sigma8*(H0*1e-2)**(-0.5)',\n",
        "                     'latex': '\\\\sigma_8/h^{0.5}'},\n",
        "            's8omegamp25': {'derived': 'lambda sigma8, omegam: '\n",
        "                                       'sigma8*omegam**0.25',\n",
        "                            'latex': '\\\\sigma_8 \\\\Omega_\\\\mathrm{m}^{0.25}'},\n",
        "            's8omegamp5': {'derived': 'lambda sigma8, omegam: '\n",
        "                                      'sigma8*omegam**0.5',\n",
        "                           'latex': '\\\\sigma_8 \\\\Omega_\\\\mathrm{m}^{0.5}'},\n",
        "            'sigma8': {'latex': '\\\\sigma_8'},\n",
        "            'tau': {'latex': '\\\\tau_\\\\mathrm{reio}',\n",
        "                    'prior': {'max': 0.8, 'min': 0.01},\n",
        "                    'proposal': 0.003,\n",
        "                    'ref': {'dist': 'norm', 'loc': 0.055, 'scale': 0.006}},\n",
        "            'theta_MC_100': {'drop': True,\n",
        "                             'latex': '100\\\\theta_\\\\mathrm{MC}',\n",
        "                             'prior': {'max': 10, 'min': 0.5},\n",
        "                             'proposal': 0.0002,\n",
        "                             'ref': {'dist': 'norm',\n",
        "                                     'loc': 1.04109,\n",
        "                                     'scale': 0.0004},\n",
        "                             'renames': 'theta'},\n",
        "            'zrei': {'latex': 'z_\\\\mathrm{re}'}},\n",
        "'sampler': {'evaluate': None},\n",
        "'theory': {'camb': {'extra_args': {'bbn_predictor': 'PArthENoPE_880.2_standard.dat',\n",
        "                                    'halofit_version': 'mead',\n",
        "                                    'lens_potential_accuracy': 1,\n",
        "                                    'nnu': 3.046,\n",
        "                                    'num_massive_neutrinos': 1,\n",
        "                                    'theta_H0_range': [20, 100]}}}}"
      ]
    },
    {
      "cell_type": "code",
      "execution_count": null,
      "metadata": {
        "id": "DJ_56J2MQRRJ"
      },
      "outputs": [],
      "source": [
        "# Run Cobaya!\n",
        "updated_info_cosmo, sampler_cosmo = run(info_cosmo)"
      ]
    },
    {
      "cell_type": "code",
      "source": [],
      "metadata": {
        "id": "CBmSrdQOf_9T"
      },
      "execution_count": null,
      "outputs": []
    }
  ],
  "metadata": {
    "kernelspec": {
      "display_name": "Python 3",
      "language": "python",
      "name": "python3"
    },
    "language_info": {
      "codemirror_mode": {
        "name": "ipython",
        "version": 3
      },
      "file_extension": ".py",
      "mimetype": "text/x-python",
      "name": "python",
      "nbconvert_exporter": "python",
      "pygments_lexer": "ipython3",
      "version": "3.7.6"
    },
    "colab": {
      "provenance": []
    }
  },
  "nbformat": 4,
  "nbformat_minor": 0
}