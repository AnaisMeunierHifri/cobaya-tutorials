{
  "cells": [
    {
      "cell_type": "code",
      "execution_count": 1,
      "metadata": {
        "id": "mSNG_pzzIS6-"
      },
      "outputs": [],
      "source": [
        "# General python imports\n",
        "import numpy as np\n",
        "import matplotlib.pyplot as plt\n",
        "from scipy import stats\n",
        "\n",
        "%matplotlib inline\n",
        "%config InlineBackend.figure_format = 'retina'"
      ]
    },
    {
      "cell_type": "markdown",
      "metadata": {
        "id": "caOKW6ZWIS7E"
      },
      "source": [
        "# Attention:\n",
        "\n",
        "Keep always the Cobaya documentation open: https://cobaya.readthedocs.io"
      ]
    },
    {
      "cell_type": "markdown",
      "metadata": {
        "id": "6g6TmhYWIS7G"
      },
      "source": [
        "# Exercise 1:\n",
        "\n",
        "### Use the Metropolis-Hastings MCMC sampler of Cobaya to sample a simple posterior distribution\n",
        "\n",
        "In this exercise, we aim to sample the posterior distribution corresponding to the product of a gaussian mixture likelihood in Cobaya (see https://cobaya.readthedocs.io/en/latest/likelihood_gaussian_mixture.html) using simple priors for the parameters.\n",
        "\n",
        "For that, you need to fill up the blocks `likelihood`, `params` and `sampler` of the configuration dictionary and then run Cobaya."
      ]
    },
    {
      "cell_type": "code",
      "execution_count": 2,
      "metadata": {
        "id": "kH6cWoTaIS7I"
      },
      "outputs": [],
      "source": [
        "# Fill the configuration dictionary called 'info' below\n",
        "\n",
        "info = {\n",
        "# We import the likelihood from Cobaya likelihood libraries\n",
        "# 'likelihood': Cobaya's protected key of the input dictionary\n",
        "# The goal is to use a gaussian mixture so you need to define\n",
        "# the means and a covariance matrix\n",
        "    \"likelihood\": {...},\n",
        "# 'params': Cobaya's protected key of the input dictionary.\n",
        "# Includes the parameters that the user would like to sample over\n",
        "# You need to define two parameters a and b which are the means\n",
        "# of the gaussian mixture function above\n",
        "# with their corresponding priors\n",
        "#\n",
        "# use a uniform distribution for a and a gaussian distribution for b\n",
        "# check Cobaya documentation to see how we do define priors\n",
        "    \"params\": {...},\n",
        "# 'sampler': Cobaya's protected key of the input dictionary.\n",
        "# you can choose the sampler you want to use.\n",
        "# Check Cobaya's documentation to see the list of available samplers\n",
        "# Here, we would like to use the usual Metropolis Hastings MC sampler\n",
        "    \"sampler\": {...},\n",
        "# 'force': Cobaya's protected key of the input dictionary.\n",
        "# 'force': True, Cobaya forces deleting the previous output files, if found, with the same name\n",
        "    \"force\": True,\n",
        "# 'debug': Cobaya's protected key of the input dictionary.\n",
        "# how much information you want Cobaya to print? If debug: True, it prints every single detail\n",
        "# that is going on internally in Cobaya\n",
        "    \"debug\": False,\n",
        "# 'output': Cobaya's protected key of the input dictionary.\n",
        "# Where are the results going to be stored, in case that the sampler produce output files?\n",
        "# For example: chains...\n",
        "# modify the path below within 'output' to choose a name and a directory for those files\n",
        "    \"output\": {...}}"
      ]
    },
    {
      "cell_type": "code",
      "source": [
        "!pip install cobaya"
      ],
      "metadata": {
        "id": "pQj9_JkIIofb",
        "outputId": "d79a8111-df67-45e2-cb47-2d36ee5ee89e",
        "colab": {
          "base_uri": "https://localhost:8080/"
        }
      },
      "execution_count": 3,
      "outputs": [
        {
          "output_type": "stream",
          "name": "stdout",
          "text": [
            "Requirement already satisfied: cobaya in /usr/local/lib/python3.12/dist-packages (3.5.7)\n",
            "Requirement already satisfied: numpy>=1.17.0 in /usr/local/lib/python3.12/dist-packages (from cobaya) (2.0.2)\n",
            "Requirement already satisfied: scipy>=1.5 in /usr/local/lib/python3.12/dist-packages (from cobaya) (1.16.1)\n",
            "Requirement already satisfied: pandas>=1.0.1 in /usr/local/lib/python3.12/dist-packages (from cobaya) (2.2.2)\n",
            "Requirement already satisfied: PyYAML>=5.1 in /usr/local/lib/python3.12/dist-packages (from cobaya) (6.0.2)\n",
            "Requirement already satisfied: requests>=2.18 in /usr/local/lib/python3.12/dist-packages (from cobaya) (2.32.4)\n",
            "Requirement already satisfied: py-bobyqa>=1.4 in /usr/local/lib/python3.12/dist-packages (from cobaya) (1.5.0)\n",
            "Requirement already satisfied: GetDist>=1.3.1 in /usr/local/lib/python3.12/dist-packages (from cobaya) (1.7.2)\n",
            "Requirement already satisfied: fuzzywuzzy>=0.17 in /usr/local/lib/python3.12/dist-packages (from cobaya) (0.18.0)\n",
            "Requirement already satisfied: packaging in /usr/local/lib/python3.12/dist-packages (from cobaya) (25.0)\n",
            "Requirement already satisfied: tqdm in /usr/local/lib/python3.12/dist-packages (from cobaya) (4.67.1)\n",
            "Requirement already satisfied: portalocker>=2.3.0 in /usr/local/lib/python3.12/dist-packages (from cobaya) (3.2.0)\n",
            "Requirement already satisfied: dill>=0.3.3 in /usr/local/lib/python3.12/dist-packages (from cobaya) (0.3.8)\n",
            "Requirement already satisfied: typing_extensions in /usr/local/lib/python3.12/dist-packages (from cobaya) (4.15.0)\n",
            "Requirement already satisfied: matplotlib!=3.5.0,>=2.2.0 in /usr/local/lib/python3.12/dist-packages (from GetDist>=1.3.1->cobaya) (3.10.0)\n",
            "Requirement already satisfied: python-dateutil>=2.8.2 in /usr/local/lib/python3.12/dist-packages (from pandas>=1.0.1->cobaya) (2.9.0.post0)\n",
            "Requirement already satisfied: pytz>=2020.1 in /usr/local/lib/python3.12/dist-packages (from pandas>=1.0.1->cobaya) (2025.2)\n",
            "Requirement already satisfied: tzdata>=2022.7 in /usr/local/lib/python3.12/dist-packages (from pandas>=1.0.1->cobaya) (2025.2)\n",
            "Requirement already satisfied: setuptools in /usr/local/lib/python3.12/dist-packages (from py-bobyqa>=1.4->cobaya) (80.9.0)\n",
            "Requirement already satisfied: charset_normalizer<4,>=2 in /usr/local/lib/python3.12/dist-packages (from requests>=2.18->cobaya) (3.4.3)\n",
            "Requirement already satisfied: idna<4,>=2.5 in /usr/local/lib/python3.12/dist-packages (from requests>=2.18->cobaya) (3.10)\n",
            "Requirement already satisfied: urllib3<3,>=1.21.1 in /usr/local/lib/python3.12/dist-packages (from requests>=2.18->cobaya) (2.5.0)\n",
            "Requirement already satisfied: certifi>=2017.4.17 in /usr/local/lib/python3.12/dist-packages (from requests>=2.18->cobaya) (2025.8.3)\n",
            "Requirement already satisfied: contourpy>=1.0.1 in /usr/local/lib/python3.12/dist-packages (from matplotlib!=3.5.0,>=2.2.0->GetDist>=1.3.1->cobaya) (1.3.3)\n",
            "Requirement already satisfied: cycler>=0.10 in /usr/local/lib/python3.12/dist-packages (from matplotlib!=3.5.0,>=2.2.0->GetDist>=1.3.1->cobaya) (0.12.1)\n",
            "Requirement already satisfied: fonttools>=4.22.0 in /usr/local/lib/python3.12/dist-packages (from matplotlib!=3.5.0,>=2.2.0->GetDist>=1.3.1->cobaya) (4.59.1)\n",
            "Requirement already satisfied: kiwisolver>=1.3.1 in /usr/local/lib/python3.12/dist-packages (from matplotlib!=3.5.0,>=2.2.0->GetDist>=1.3.1->cobaya) (1.4.9)\n",
            "Requirement already satisfied: pillow>=8 in /usr/local/lib/python3.12/dist-packages (from matplotlib!=3.5.0,>=2.2.0->GetDist>=1.3.1->cobaya) (11.3.0)\n",
            "Requirement already satisfied: pyparsing>=2.3.1 in /usr/local/lib/python3.12/dist-packages (from matplotlib!=3.5.0,>=2.2.0->GetDist>=1.3.1->cobaya) (3.2.3)\n",
            "Requirement already satisfied: six>=1.5 in /usr/local/lib/python3.12/dist-packages (from python-dateutil>=2.8.2->pandas>=1.0.1->cobaya) (1.17.0)\n"
          ]
        }
      ]
    },
    {
      "cell_type": "code",
      "source": [
        "!pip install -U setuptools"
      ],
      "metadata": {
        "id": "5H3-z0CmNxOL",
        "outputId": "c4fec063-5058-4fc1-86e3-06a998069b72",
        "colab": {
          "base_uri": "https://localhost:8080/"
        }
      },
      "execution_count": 4,
      "outputs": [
        {
          "output_type": "stream",
          "name": "stdout",
          "text": [
            "Requirement already satisfied: setuptools in /usr/local/lib/python3.12/dist-packages (80.9.0)\n"
          ]
        }
      ]
    },
    {
      "cell_type": "code",
      "source": [
        "!cobaya-install cosmo -p ."
      ],
      "metadata": {
        "id": "Tmrnh6e6Irj-",
        "outputId": "a4313d86-7e84-48a4-f601-3efeaa583f48",
        "colab": {
          "base_uri": "https://localhost:8080/"
        }
      },
      "execution_count": 5,
      "outputs": [
        {
          "output_type": "stream",
          "name": "stdout",
          "text": [
            "[install] Installing basic cosmological packages.\n",
            "[install] Installing external packages at '/content'\n",
            "[install] The installation path has been written into the global config file: /root/.config/cobaya/config.yaml\n",
            "\n",
            "================================================================================\n",
            "theory:camb\n",
            "================================================================================\n",
            "\n",
            "[install] Checking if dependencies have already been installed...\n",
            "[install] Check found no existing installation\n",
            "[install] (If you expected this to be already installed, re-run `cobaya-install` with --debug to get more verbose output.)\n",
            "[install] Installing...\n",
            "[CAMB] Installing pre-requisites...\n",
            "[CAMB] Downloading camb...\n",
            "100% 13.3M/13.3M [00:00<00:00, 38.2MiB/s]\n",
            "[CAMB] Downloaded filename CAMB-master.tar.gz\n",
            "[CAMB] CAMB master downloaded and decompressed correctly.\n",
            "[CAMB] Compiling camb...\n",
            "[install] Successfully installed! Let's check it...\n",
            "[install] Installation check successful.\n",
            "\n",
            "================================================================================\n",
            "theory:classy\n",
            "================================================================================\n",
            "\n",
            "[install] Checking if dependencies have already been installed...\n",
            "[install] Version check failed: Module classy at /content/code/classy/build/lib.linux-x86_64-cpython-312/classy is version (non-given) but the minimum required version is v3.2.1.\n",
            "[install] Skipping because '--upgrade' not requested.\n",
            "\n",
            "================================================================================\n",
            "likelihood:planck_2018_lowl.TT\n",
            "================================================================================\n",
            "\n",
            "[install] Checking if dependencies have already been installed...\n",
            "[install] External dependencies for this component already installed.\n",
            "[install] Doing nothing.\n",
            "\n",
            "================================================================================\n",
            "likelihood:planck_2018_lowl.EE\n",
            "================================================================================\n",
            "\n",
            "[install] Checking if dependencies have already been installed...\n",
            "[install] External dependencies for this component already installed.\n",
            "[install] Doing nothing.\n",
            "\n",
            "================================================================================\n",
            "likelihood:planck_NPIPE_highl_CamSpec.TTTEEE\n",
            "================================================================================\n",
            "\n",
            "[install] Checking if dependencies have already been installed...\n",
            "[install] External dependencies for this component already installed.\n",
            "[install] Doing nothing.\n",
            "\n",
            "================================================================================\n",
            "likelihood:planckpr4lensing\n",
            "================================================================================\n",
            "\n",
            "[install] Checking if dependencies have already been installed...\n",
            "[install] External dependencies for this component already installed.\n",
            "[install] Doing nothing.\n",
            "\n",
            "================================================================================\n",
            "likelihood:planck_2018_lensing.native\n",
            "================================================================================\n",
            "\n",
            "[install] Checking if dependencies have already been installed...\n",
            "[install] External dependencies for this component already installed.\n",
            "[install] Doing nothing.\n",
            "\n",
            "================================================================================\n",
            "likelihood:sn.pantheon\n",
            "================================================================================\n",
            "\n",
            "[install] Checking if dependencies have already been installed...\n",
            "[install] External dependencies for this component already installed.\n",
            "[install] Doing nothing.\n",
            "\n",
            "================================================================================\n",
            "likelihood:bao.sdss_dr12_consensus_final\n",
            "================================================================================\n",
            "\n",
            "[install] Checking if dependencies have already been installed...\n",
            "[install] External dependencies for this component already installed.\n",
            "[install] Doing nothing.\n",
            "\n",
            "================================================================================\n",
            "likelihood:des_y1.joint\n",
            "================================================================================\n",
            "\n",
            "[install] Checking if dependencies have already been installed...\n",
            "[install] External dependencies for this component already installed.\n",
            "[install] Doing nothing.\n",
            "\n",
            "================================================================================\n",
            "* Summary * \n",
            "================================================================================\n",
            "\n",
            "[install] *ERROR* The following packages are obsolete. Re-run with `--upgrade` option (not upgrading by default to preserve possible user changes): \n",
            " - theory:classy\n",
            "[exception handler] ---------------------------------------\n",
            "\n",
            "Traceback (most recent call last):\n",
            "  File \"/usr/local/bin/cobaya-install\", line 8, in <module>\n",
            "    sys.exit(install_script())\n",
            "             ^^^^^^^^^^^^^^^^\n",
            "  File \"/usr/local/lib/python3.12/dist-packages/cobaya/install.py\", line 648, in install_script\n",
            "    install(*infos, path=getattr(arguments, packages_path_arg), logger=logger,\n",
            "  File \"/usr/local/lib/python3.12/dist-packages/cobaya/install.py\", line 372, in install\n",
            "    raise LoggedError(\n",
            "cobaya.log.LoggedError: The following packages are obsolete. Re-run with `--upgrade` option (not upgrading by default to preserve possible user changes): \n",
            " - theory:classy\n",
            "-------------------------------------------------------------\n",
            "\n"
          ]
        }
      ]
    },
    {
      "cell_type": "code",
      "execution_count": 6,
      "metadata": {
        "scrolled": true,
        "id": "JO6w_sPqIS7K",
        "outputId": "6fe8ef7c-7307-430d-a95e-107e04579244",
        "colab": {
          "base_uri": "https://localhost:8080/",
          "height": 238
        }
      },
      "outputs": [
        {
          "output_type": "error",
          "ename": "TypeError",
          "evalue": "expected str, bytes or os.PathLike object, not set",
          "traceback": [
            "\u001b[0;31m---------------------------------------------------------------------------\u001b[0m",
            "\u001b[0;31mTypeError\u001b[0m                                 Traceback (most recent call last)",
            "\u001b[0;32m/tmp/ipython-input-3754111103.py\u001b[0m in \u001b[0;36m<cell line: 0>\u001b[0;34m()\u001b[0m\n\u001b[1;32m      2\u001b[0m \u001b[0;32mfrom\u001b[0m \u001b[0mcobaya\u001b[0m\u001b[0;34m.\u001b[0m\u001b[0mrun\u001b[0m \u001b[0;32mimport\u001b[0m \u001b[0mrun\u001b[0m\u001b[0;34m\u001b[0m\u001b[0;34m\u001b[0m\u001b[0m\n\u001b[1;32m      3\u001b[0m \u001b[0;31m# Now we run!\u001b[0m\u001b[0;34m\u001b[0m\u001b[0;34m\u001b[0m\u001b[0m\n\u001b[0;32m----> 4\u001b[0;31m \u001b[0mupdated_info\u001b[0m\u001b[0;34m,\u001b[0m \u001b[0msampler\u001b[0m \u001b[0;34m=\u001b[0m \u001b[0mrun\u001b[0m\u001b[0;34m(\u001b[0m\u001b[0minfo\u001b[0m\u001b[0;34m)\u001b[0m\u001b[0;34m\u001b[0m\u001b[0;34m\u001b[0m\u001b[0m\n\u001b[0m",
            "\u001b[0;32m/usr/local/lib/python3.12/dist-packages/cobaya/run.py\u001b[0m in \u001b[0;36mrun\u001b[0;34m(info_or_yaml_or_file, packages_path, output, debug, stop_at_error, resume, force, minimize, no_mpi, test, override, allow_changes)\u001b[0m\n\u001b[1;32m     92\u001b[0m         \u001b[0;31m# 1. Prepare output driver, if requested by defining an output prefix\u001b[0m\u001b[0;34m\u001b[0m\u001b[0;34m\u001b[0m\u001b[0m\n\u001b[1;32m     93\u001b[0m         \u001b[0minfix\u001b[0m \u001b[0;34m=\u001b[0m \u001b[0;34m\"minimize\"\u001b[0m \u001b[0;32mif\u001b[0m \u001b[0mwhich_sampler\u001b[0m \u001b[0;34m==\u001b[0m \u001b[0;34m\"minimize\"\u001b[0m \u001b[0;32melse\u001b[0m \u001b[0;32mNone\u001b[0m\u001b[0;34m\u001b[0m\u001b[0;34m\u001b[0m\u001b[0m\n\u001b[0;32m---> 94\u001b[0;31m         with get_output(prefix=info.get(\"output\"), resume=info.get(\"resume\"),\n\u001b[0m\u001b[1;32m     95\u001b[0m                         force=info.get(\"force\"), infix=infix) as out:\n\u001b[1;32m     96\u001b[0m             \u001b[0;31m# 2. Update the input info with the defaults for each component\u001b[0m\u001b[0;34m\u001b[0m\u001b[0;34m\u001b[0m\u001b[0m\n",
            "\u001b[0;32m/usr/local/lib/python3.12/dist-packages/cobaya/output.py\u001b[0m in \u001b[0;36mget_output\u001b[0;34m(*args, **kwargs)\u001b[0m\n\u001b[1;32m    680\u001b[0m     \"\"\"\n\u001b[1;32m    681\u001b[0m     \u001b[0;32mif\u001b[0m \u001b[0mkwargs\u001b[0m\u001b[0;34m.\u001b[0m\u001b[0mget\u001b[0m\u001b[0;34m(\u001b[0m\u001b[0;34m\"prefix\"\u001b[0m\u001b[0;34m)\u001b[0m \u001b[0;32mor\u001b[0m \u001b[0mlen\u001b[0m\u001b[0;34m(\u001b[0m\u001b[0margs\u001b[0m\u001b[0;34m)\u001b[0m \u001b[0;34m>=\u001b[0m \u001b[0;36m1\u001b[0m\u001b[0;34m:\u001b[0m\u001b[0;34m\u001b[0m\u001b[0;34m\u001b[0m\u001b[0m\n\u001b[0;32m--> 682\u001b[0;31m         \u001b[0;32mreturn\u001b[0m \u001b[0mOutput\u001b[0m\u001b[0;34m(\u001b[0m\u001b[0;34m*\u001b[0m\u001b[0margs\u001b[0m\u001b[0;34m,\u001b[0m \u001b[0;34m**\u001b[0m\u001b[0mkwargs\u001b[0m\u001b[0;34m)\u001b[0m\u001b[0;34m\u001b[0m\u001b[0;34m\u001b[0m\u001b[0m\n\u001b[0m\u001b[1;32m    683\u001b[0m     \u001b[0;32melse\u001b[0m\u001b[0;34m:\u001b[0m\u001b[0;34m\u001b[0m\u001b[0;34m\u001b[0m\u001b[0m\n\u001b[1;32m    684\u001b[0m         \u001b[0;32mreturn\u001b[0m \u001b[0mOutputDummy\u001b[0m\u001b[0;34m(\u001b[0m\u001b[0;34m*\u001b[0m\u001b[0margs\u001b[0m\u001b[0;34m,\u001b[0m \u001b[0;34m**\u001b[0m\u001b[0mkwargs\u001b[0m\u001b[0;34m)\u001b[0m\u001b[0;34m\u001b[0m\u001b[0;34m\u001b[0m\u001b[0m\n",
            "\u001b[0;32m/usr/local/lib/python3.12/dist-packages/cobaya/mpi.py\u001b[0m in \u001b[0;36mwrapper\u001b[0;34m(self, *args, **kwargs)\u001b[0m\n\u001b[1;32m    272\u001b[0m             \u001b[0;32mif\u001b[0m \u001b[0mis_main_process\u001b[0m\u001b[0;34m(\u001b[0m\u001b[0;34m)\u001b[0m\u001b[0;34m:\u001b[0m\u001b[0;34m\u001b[0m\u001b[0;34m\u001b[0m\u001b[0m\n\u001b[1;32m    273\u001b[0m                 \u001b[0;32mtry\u001b[0m\u001b[0;34m:\u001b[0m\u001b[0;34m\u001b[0m\u001b[0;34m\u001b[0m\u001b[0m\n\u001b[0;32m--> 274\u001b[0;31m                     \u001b[0mresult\u001b[0m \u001b[0;34m=\u001b[0m \u001b[0mmethod\u001b[0m\u001b[0;34m(\u001b[0m\u001b[0mself\u001b[0m\u001b[0;34m,\u001b[0m \u001b[0;34m*\u001b[0m\u001b[0margs\u001b[0m\u001b[0;34m,\u001b[0m \u001b[0;34m**\u001b[0m\u001b[0mkwargs\u001b[0m\u001b[0;34m)\u001b[0m\u001b[0;34m\u001b[0m\u001b[0;34m\u001b[0m\u001b[0m\n\u001b[0m\u001b[1;32m    275\u001b[0m                 \u001b[0;32mexcept\u001b[0m \u001b[0mException\u001b[0m\u001b[0;34m:\u001b[0m\u001b[0;34m\u001b[0m\u001b[0;34m\u001b[0m\u001b[0m\n\u001b[1;32m    276\u001b[0m                     \u001b[0mshare_mpi\u001b[0m\u001b[0;34m(\u001b[0m\u001b[0;34m)\u001b[0m\u001b[0;34m\u001b[0m\u001b[0;34m\u001b[0m\u001b[0m\n",
            "\u001b[0;32m/usr/local/lib/python3.12/dist-packages/cobaya/output.py\u001b[0m in \u001b[0;36m__init__\u001b[0;34m(self, prefix, resume, force, infix)\u001b[0m\n\u001b[1;32m    351\u001b[0m                         \"_resuming\", \"prefix_regexp_str\", \"log\"))\n\u001b[1;32m    352\u001b[0m     \u001b[0;32mdef\u001b[0m \u001b[0m__init__\u001b[0m\u001b[0;34m(\u001b[0m\u001b[0mself\u001b[0m\u001b[0;34m,\u001b[0m \u001b[0mprefix\u001b[0m\u001b[0;34m,\u001b[0m \u001b[0mresume\u001b[0m\u001b[0;34m=\u001b[0m\u001b[0mresume_default\u001b[0m\u001b[0;34m,\u001b[0m \u001b[0mforce\u001b[0m\u001b[0;34m=\u001b[0m\u001b[0;32mFalse\u001b[0m\u001b[0;34m,\u001b[0m \u001b[0minfix\u001b[0m\u001b[0;34m=\u001b[0m\u001b[0;32mNone\u001b[0m\u001b[0;34m)\u001b[0m\u001b[0;34m:\u001b[0m\u001b[0;34m\u001b[0m\u001b[0;34m\u001b[0m\u001b[0m\n\u001b[0;32m--> 353\u001b[0;31m         \u001b[0mOutputReadOnly\u001b[0m\u001b[0;34m.\u001b[0m\u001b[0m__init__\u001b[0m\u001b[0;34m(\u001b[0m\u001b[0mself\u001b[0m\u001b[0;34m,\u001b[0m \u001b[0mprefix\u001b[0m\u001b[0;34m,\u001b[0m \u001b[0minfix\u001b[0m\u001b[0;34m)\u001b[0m\u001b[0;34m\u001b[0m\u001b[0;34m\u001b[0m\u001b[0m\n\u001b[0m\u001b[1;32m    354\u001b[0m         \u001b[0mself\u001b[0m\u001b[0;34m.\u001b[0m\u001b[0mname\u001b[0m \u001b[0;34m=\u001b[0m \u001b[0;34m\"output\"\u001b[0m\u001b[0;34m\u001b[0m\u001b[0;34m\u001b[0m\u001b[0m\n\u001b[1;32m    355\u001b[0m         \u001b[0mself\u001b[0m\u001b[0;34m.\u001b[0m\u001b[0mset_logger\u001b[0m\u001b[0;34m(\u001b[0m\u001b[0mself\u001b[0m\u001b[0;34m.\u001b[0m\u001b[0mname\u001b[0m\u001b[0;34m)\u001b[0m\u001b[0;34m\u001b[0m\u001b[0;34m\u001b[0m\u001b[0m\n",
            "\u001b[0;32m/usr/local/lib/python3.12/dist-packages/cobaya/output.py\u001b[0m in \u001b[0;36m__init__\u001b[0;34m(self, prefix, infix)\u001b[0m\n\u001b[1;32m    150\u001b[0m \u001b[0;34m\u001b[0m\u001b[0m\n\u001b[1;32m    151\u001b[0m     \u001b[0;32mdef\u001b[0m \u001b[0m__init__\u001b[0m\u001b[0;34m(\u001b[0m\u001b[0mself\u001b[0m\u001b[0;34m,\u001b[0m \u001b[0mprefix\u001b[0m\u001b[0;34m,\u001b[0m \u001b[0minfix\u001b[0m\u001b[0;34m=\u001b[0m\u001b[0;32mNone\u001b[0m\u001b[0;34m)\u001b[0m\u001b[0;34m:\u001b[0m\u001b[0;34m\u001b[0m\u001b[0;34m\u001b[0m\u001b[0m\n\u001b[0;32m--> 152\u001b[0;31m         \u001b[0mself\u001b[0m\u001b[0;34m.\u001b[0m\u001b[0mfolder\u001b[0m\u001b[0;34m,\u001b[0m \u001b[0mself\u001b[0m\u001b[0;34m.\u001b[0m\u001b[0mprefix\u001b[0m \u001b[0;34m=\u001b[0m \u001b[0msplit_prefix\u001b[0m\u001b[0;34m(\u001b[0m\u001b[0mprefix\u001b[0m\u001b[0;34m)\u001b[0m\u001b[0;34m\u001b[0m\u001b[0;34m\u001b[0m\u001b[0m\n\u001b[0m\u001b[1;32m    153\u001b[0m         self.prefix_regexp_str = re.escape(self.prefix) + (\n\u001b[1;32m    154\u001b[0m             r\"[\\._]\" if self.prefix else \"\")\n",
            "\u001b[0;32m/usr/local/lib/python3.12/dist-packages/cobaya/input.py\u001b[0m in \u001b[0;36msplit_prefix\u001b[0;34m(prefix)\u001b[0m\n\u001b[1;32m    163\u001b[0m     \u001b[0;32mif\u001b[0m \u001b[0mplatform\u001b[0m\u001b[0;34m.\u001b[0m\u001b[0msystem\u001b[0m\u001b[0;34m(\u001b[0m\u001b[0;34m)\u001b[0m \u001b[0;34m==\u001b[0m \u001b[0;34m\"Windows\"\u001b[0m\u001b[0;34m:\u001b[0m\u001b[0;34m\u001b[0m\u001b[0;34m\u001b[0m\u001b[0m\n\u001b[1;32m    164\u001b[0m         \u001b[0mprefix\u001b[0m \u001b[0;34m=\u001b[0m \u001b[0mprefix\u001b[0m\u001b[0;34m.\u001b[0m\u001b[0mreplace\u001b[0m\u001b[0;34m(\u001b[0m\u001b[0;34m\"/\"\u001b[0m\u001b[0;34m,\u001b[0m \u001b[0mos\u001b[0m\u001b[0;34m.\u001b[0m\u001b[0msep\u001b[0m\u001b[0;34m)\u001b[0m\u001b[0;34m\u001b[0m\u001b[0;34m\u001b[0m\u001b[0m\n\u001b[0;32m--> 165\u001b[0;31m     \u001b[0mfolder\u001b[0m \u001b[0;34m=\u001b[0m \u001b[0mos\u001b[0m\u001b[0;34m.\u001b[0m\u001b[0mpath\u001b[0m\u001b[0;34m.\u001b[0m\u001b[0mdirname\u001b[0m\u001b[0;34m(\u001b[0m\u001b[0mprefix\u001b[0m\u001b[0;34m)\u001b[0m \u001b[0;32mor\u001b[0m \u001b[0;34m\".\"\u001b[0m\u001b[0;34m\u001b[0m\u001b[0;34m\u001b[0m\u001b[0m\n\u001b[0m\u001b[1;32m    166\u001b[0m     \u001b[0mfile_prefix\u001b[0m \u001b[0;34m=\u001b[0m \u001b[0mos\u001b[0m\u001b[0;34m.\u001b[0m\u001b[0mpath\u001b[0m\u001b[0;34m.\u001b[0m\u001b[0mbasename\u001b[0m\u001b[0;34m(\u001b[0m\u001b[0mprefix\u001b[0m\u001b[0;34m)\u001b[0m\u001b[0;34m\u001b[0m\u001b[0;34m\u001b[0m\u001b[0m\n\u001b[1;32m    167\u001b[0m     \u001b[0;32mif\u001b[0m \u001b[0mfile_prefix\u001b[0m \u001b[0;34m==\u001b[0m \u001b[0;34m\".\"\u001b[0m\u001b[0;34m:\u001b[0m\u001b[0;34m\u001b[0m\u001b[0;34m\u001b[0m\u001b[0m\n",
            "\u001b[0;32m/usr/lib/python3.12/posixpath.py\u001b[0m in \u001b[0;36mdirname\u001b[0;34m(p)\u001b[0m\n",
            "\u001b[0;31mTypeError\u001b[0m: expected str, bytes or os.PathLike object, not set"
          ]
        }
      ],
      "source": [
        "#  We import Cobaya\n",
        "from cobaya.run import run\n",
        "# Now we run!\n",
        "updated_info, sampler = run(info)"
      ]
    },
    {
      "cell_type": "markdown",
      "metadata": {
        "id": "CooVWVwfIS7M"
      },
      "source": [
        "### Plot the corresponding distribution using GetDist\n",
        "\n",
        "Do not forget to open the GetDist html DEMO: https://getdist.readthedocs.io/en/latest/plot_gallery.html"
      ]
    },
    {
      "cell_type": "code",
      "execution_count": null,
      "metadata": {
        "id": "IWw3I2yrIS7N"
      },
      "outputs": [],
      "source": [
        "# Import corresponding modules from GetDist\n",
        "from getdist.mcsamples import loadMCSamples, MCSamplesFromCobaya\n",
        "import getdist.plots as gdplt\n",
        "\n",
        "# Load the chains and the updated config file from the previous run\n",
        "gd_sample = MCSamplesFromCobaya(updated_info, sampler.products()[\"sample\"])\n",
        "\n",
        "# Analyze the chains (print the mean and covmat according to GetDist documentation)\n",
        "mean = ...\n",
        "covmat = ...\n",
        "print(\"Mean:\")\n",
        "print(mean)\n",
        "print(\"Covariance matrix:\")\n",
        "print(covmat)\n",
        "\n",
        "# PLOT THE CHAINS (have a look at the DEMO above from GetDist)\n",
        "# The goal is to produce a triangle plot"
      ]
    },
    {
      "cell_type": "markdown",
      "metadata": {
        "id": "HYsPCl5NIS7O"
      },
      "source": [
        "### Now, let's change the likelihood above by a new gaussian ring likelihood defined on cartesian coordinates\n",
        "\n",
        "Cobaya allows to pass self-defined likelihoods as likelihoods of the `likelihood` block."
      ]
    },
    {
      "cell_type": "code",
      "execution_count": null,
      "metadata": {
        "id": "Cn8alXe0IS7P"
      },
      "outputs": [],
      "source": [
        "# We define the new likelihood as a python function\n",
        "# ATTENTION: Cobaya always needs to return the loglike!\n",
        "\n",
        "def gauss_ring_logp(x, y, mean_radius=1, std=0.02):\n",
        "    \"\"\"\n",
        "    Defines a gaussian ring likelihood on cartesian coordinater,\n",
        "    around some ``mean_radius`` and with some ``std``.\n",
        "    \"\"\"\n",
        "    return stats.norm.logpdf(np.sqrt(x**2 + y**2), loc=mean_radius, scale=std)"
      ]
    },
    {
      "cell_type": "code",
      "execution_count": null,
      "metadata": {
        "id": "fs-0dYCbIS7S"
      },
      "outputs": [],
      "source": [
        "# Let's update the new likelihood in the info dictionary above\n",
        "\n",
        "info = {\"likelihood\": {\"ring\": ...}}"
      ]
    },
    {
      "cell_type": "code",
      "execution_count": null,
      "metadata": {
        "id": "BQ7YMrS-IS7U"
      },
      "outputs": [],
      "source": [
        "# The new likelihood requests two new parameters: x and y\n",
        "# Therefore, we need to define them in the params block\n",
        "# of the info dictionary above adding a new prior\n",
        "\n",
        "# Use uniform distributions as priors for x and y between 0 and 2\n",
        "\n",
        "info[\"params\"] = {...}"
      ]
    },
    {
      "cell_type": "code",
      "execution_count": null,
      "metadata": {
        "id": "X3XF6fT4IS7V"
      },
      "outputs": [],
      "source": [
        "# We add the polar coordinates theta and radius as derived parameters within the params block\n",
        "\n",
        "def get_r(x, y):\n",
        "    return np.sqrt(x ** 2 + y ** 2)\n",
        "\n",
        "\n",
        "def get_theta(x, y):\n",
        "    return np.arctan(y / x)\n",
        "\n",
        "# Update the params part of the info dictionary with these derived params"
      ]
    },
    {
      "cell_type": "code",
      "execution_count": null,
      "metadata": {
        "id": "7ELMD4lAIS7W"
      },
      "outputs": [],
      "source": [
        "# We add some new conditions in the sampler block, to give extra tries in case the mcmc gets stuck\n",
        "\n",
        "info[\"sampler\"] = {\"mcmc\": {\"Rminus1_stop\": 0.001, \"max_tries\": 1000}}\n",
        "\n",
        "# Re-run cobaya as we did above!"
      ]
    },
    {
      "cell_type": "markdown",
      "metadata": {
        "id": "PAtvLCHhIS7W"
      },
      "source": [
        "### Replot the chains using GetDist\n",
        "\n",
        "We aim to create two triangle plots: one for the cartesian coordinates x and y, and another for the polar coordinates theta and radius"
      ]
    },
    {
      "cell_type": "code",
      "execution_count": null,
      "metadata": {
        "id": "nsMMvDEKIS7W"
      },
      "outputs": [],
      "source": [
        "# Load the chains and the updated config file from the previous run\n",
        "# Make two triangle plots: one for the cartesian coordinates x and y,\n",
        "# and a different triangle plot for the radius and angle theta"
      ]
    },
    {
      "cell_type": "markdown",
      "metadata": {
        "id": "ABgURYmDIS7X"
      },
      "source": [
        "# Exercise 2:\n",
        "\n",
        "### Make an evaluation of the full posterior of the parameters of $\\Lambda$CDM using BAO + SN + PLANCK18\n",
        "\n",
        "In this exercise, we aim to make an evaluation of the posterior distribution of the Standard Cosmological Model parameters using BAO + SN + PLANCK18 data.\n",
        "\n",
        "For that, you need to create a new config file speciying the corresponding likelihoods, the parameters of the $\\Lambda$CDM model and specify the sampler to `evaluate`.\n",
        "\n",
        "What about the `theory` module? Do you need to specify it? What would you choose?\n",
        "\n",
        "If you feel like working, you can change the sampler `evaluate` to the sampler `mcmc` to explore the full posterior distribution. Attention: it will take around 3 or 4 days. Let it run for one night so that tomorrow you can have a look at the chains.\n",
        "\n",
        "- Check this link to see how you can define the new corresponding config file: https://cobaya.readthedocs.io/en/latest/cosmo_basic_runs.html\n",
        "- All the corresponding likelihood names are within the section “COSMOLOGICAL LIKELIHOODS” at https://cobaya.readthedocs.io/en/latest/"
      ]
    },
    {
      "cell_type": "code",
      "execution_count": null,
      "metadata": {
        "id": "ZPB8OvutIS7Y"
      },
      "outputs": [],
      "source": [
        "# You need to start by defining a new config python dictionary\n",
        "# (or if you feel brave, you can write a script like a yaml format\n",
        "# and dump it as a python dictionary)\n",
        "\n",
        "# LCDM has 6 parameters, so you need to define at least 6 parameters\n",
        "# to be sampled from within the `params` block\n",
        "\n",
        "info = {...}"
      ]
    },
    {
      "cell_type": "code",
      "execution_count": null,
      "metadata": {
        "id": "FwTEQzozIS7Z"
      },
      "outputs": [],
      "source": []
    }
  ],
  "metadata": {
    "kernelspec": {
      "display_name": "Python 3",
      "language": "python",
      "name": "python3"
    },
    "language_info": {
      "codemirror_mode": {
        "name": "ipython",
        "version": 3
      },
      "file_extension": ".py",
      "mimetype": "text/x-python",
      "name": "python",
      "nbconvert_exporter": "python",
      "pygments_lexer": "ipython3",
      "version": "3.7.6"
    },
    "colab": {
      "provenance": []
    }
  },
  "nbformat": 4,
  "nbformat_minor": 0
}