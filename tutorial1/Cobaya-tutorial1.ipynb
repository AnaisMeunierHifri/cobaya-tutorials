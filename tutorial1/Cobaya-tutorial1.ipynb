{
  "cells": [
    {
      "cell_type": "code",
      "execution_count": 62,
      "metadata": {
        "id": "mSNG_pzzIS6-"
      },
      "outputs": [],
      "source": [
        "# General python imports\n",
        "import numpy as np\n",
        "import matplotlib.pyplot as plt\n",
        "from scipy import stats\n",
        "\n",
        "%matplotlib inline\n",
        "%config InlineBackend.figure_format = 'retina'"
      ]
    },
    {
      "cell_type": "markdown",
      "metadata": {
        "id": "caOKW6ZWIS7E"
      },
      "source": [
        "# Attention:\n",
        "\n",
        "Keep always the Cobaya documentation open: https://cobaya.readthedocs.io"
      ]
    },
    {
      "cell_type": "markdown",
      "metadata": {
        "id": "6g6TmhYWIS7G"
      },
      "source": [
        "# Exercise 1:\n",
        "\n",
        "### Use the Metropolis-Hastings MCMC sampler of Cobaya to sample a simple posterior distribution\n",
        "\n",
        "In this exercise, we aim to sample the posterior distribution corresponding to the product of a gaussian mixture likelihood in Cobaya (see https://cobaya.readthedocs.io/en/latest/likelihood_gaussian_mixture.html) using simple priors for the parameters.\n",
        "\n",
        "For that, you need to fill up the blocks `likelihood`, `params` and `sampler` of the configuration dictionary and then run Cobaya."
      ]
    },
    {
      "cell_type": "code",
      "execution_count": 68,
      "metadata": {
        "id": "kH6cWoTaIS7I"
      },
      "outputs": [],
      "source": [
        "# Fill the configuration dictionary called 'info' below\n",
        "\n",
        "info = {\n",
        "# We import the likelihood from Cobaya likelihood libraries\n",
        "# 'likelihood': Cobaya's protected key of the input dictionary\n",
        "# The goal is to use a gaussian mixture so you need to define\n",
        "# the means and a covariance matrix\n",
        "    \"likelihood\": {\n",
        "        \"gaussian_mixture\" : {\n",
        "            \"means\": [0.2,0],\n",
        "            \"covs\": [[0.1,0.05],\n",
        "                      [0.05,0.2]],\n",
        "            \"derived\":True}},\n",
        "# 'params': Cobaya's protected key of the input dictionary.\n",
        "# Includes the parameters that the user would like to sample over\n",
        "\n",
        "\n",
        "# You need to define two parameters a and b which are the means\n",
        "# of the gaussian mixture function above\n",
        "# with their corresponding priors\n",
        "#\n",
        "# use a uniform distribution for a and a gaussian distribution for b\n",
        "# check Cobaya documentation to see how we do define priors\n",
        "    \"params\":dict([\n",
        "        (\"a\",{\n",
        "            \"prior\":{\"min\":-0.5,\"max\":3},\n",
        "            \"latex\":r\"\\alpha\"}),\n",
        "          (\"b\",{\n",
        "            \"prior\":{\"dist\":\"norm\",\"loc\":0,\"scale\":1},\n",
        "            \"ref\":0,\n",
        "            \"proposal\":0.5,\n",
        "            \"latex\":r\"\\beta\"}),\n",
        "          (\"hyperparam_a\",{\n",
        "              \"latex\":r\"\\alpha^\\prime\"}),\n",
        "          (\"derived_b\", {\n",
        "              \"latex\":r\"\\beta^\\prime\"})]),\n",
        "# 'sampler': Cobaya's protected key of the input dictionary.\n",
        "# you can choose the sampler you want to use.\n",
        "# Check Cobaya's documentation to see the list of available samplers\n",
        "# Here, we would like to use the usual Metropolis Hastings MC sampler\n",
        "    \"sampler\": {\n",
        "        \"mcmc\": None},\n",
        "# 'force': Cobaya's protected key of the input dictionary.\n",
        "# 'force': True, Cobaya forces deleting the previous output files, if found, with the same name\n",
        "    \"force\": True,\n",
        "# 'debug': Cobaya's protected key of the input dictionary.\n",
        "# how much information you want Cobaya to print? If debug: True, it prints every single detail\n",
        "# that is going on internally in Cobaya\n",
        "    \"debug\": False,\n",
        "# 'output': Cobaya's protected key of the input dictionary.\n",
        "# Where are the results going to be stored, in case that the sampler produce output files?\n",
        "# For example: chains...\n",
        "# modify the path below within 'output' to choose a name and a directory for those files\n",
        "    \"output\": \"chains_exercise1\"}"
      ]
    },
    {
      "cell_type": "code",
      "source": [],
      "metadata": {
        "id": "PGQ3YBZQpUJG"
      },
      "execution_count": null,
      "outputs": []
    },
    {
      "cell_type": "code",
      "source": [
        "!pip install cobaya"
      ],
      "metadata": {
        "colab": {
          "base_uri": "https://localhost:8080/"
        },
        "id": "pQj9_JkIIofb",
        "outputId": "bcb8aad2-86f2-479e-ca09-089451350a9a"
      },
      "execution_count": 9,
      "outputs": [
        {
          "output_type": "stream",
          "name": "stdout",
          "text": [
            "Requirement already satisfied: cobaya in /usr/local/lib/python3.12/dist-packages (3.5.7)\n",
            "Requirement already satisfied: numpy>=1.17.0 in /usr/local/lib/python3.12/dist-packages (from cobaya) (2.0.2)\n",
            "Requirement already satisfied: scipy>=1.5 in /usr/local/lib/python3.12/dist-packages (from cobaya) (1.16.1)\n",
            "Requirement already satisfied: pandas>=1.0.1 in /usr/local/lib/python3.12/dist-packages (from cobaya) (2.2.2)\n",
            "Requirement already satisfied: PyYAML>=5.1 in /usr/local/lib/python3.12/dist-packages (from cobaya) (6.0.2)\n",
            "Requirement already satisfied: requests>=2.18 in /usr/local/lib/python3.12/dist-packages (from cobaya) (2.32.4)\n",
            "Requirement already satisfied: py-bobyqa>=1.4 in /usr/local/lib/python3.12/dist-packages (from cobaya) (1.5.0)\n",
            "Requirement already satisfied: GetDist>=1.3.1 in /usr/local/lib/python3.12/dist-packages (from cobaya) (1.7.2)\n",
            "Requirement already satisfied: fuzzywuzzy>=0.17 in /usr/local/lib/python3.12/dist-packages (from cobaya) (0.18.0)\n",
            "Requirement already satisfied: packaging in /usr/local/lib/python3.12/dist-packages (from cobaya) (25.0)\n",
            "Requirement already satisfied: tqdm in /usr/local/lib/python3.12/dist-packages (from cobaya) (4.67.1)\n",
            "Requirement already satisfied: portalocker>=2.3.0 in /usr/local/lib/python3.12/dist-packages (from cobaya) (3.2.0)\n",
            "Requirement already satisfied: dill>=0.3.3 in /usr/local/lib/python3.12/dist-packages (from cobaya) (0.3.8)\n",
            "Requirement already satisfied: typing_extensions in /usr/local/lib/python3.12/dist-packages (from cobaya) (4.15.0)\n",
            "Requirement already satisfied: matplotlib!=3.5.0,>=2.2.0 in /usr/local/lib/python3.12/dist-packages (from GetDist>=1.3.1->cobaya) (3.10.0)\n",
            "Requirement already satisfied: python-dateutil>=2.8.2 in /usr/local/lib/python3.12/dist-packages (from pandas>=1.0.1->cobaya) (2.9.0.post0)\n",
            "Requirement already satisfied: pytz>=2020.1 in /usr/local/lib/python3.12/dist-packages (from pandas>=1.0.1->cobaya) (2025.2)\n",
            "Requirement already satisfied: tzdata>=2022.7 in /usr/local/lib/python3.12/dist-packages (from pandas>=1.0.1->cobaya) (2025.2)\n",
            "Requirement already satisfied: setuptools in /usr/local/lib/python3.12/dist-packages (from py-bobyqa>=1.4->cobaya) (80.9.0)\n",
            "Requirement already satisfied: charset_normalizer<4,>=2 in /usr/local/lib/python3.12/dist-packages (from requests>=2.18->cobaya) (3.4.3)\n",
            "Requirement already satisfied: idna<4,>=2.5 in /usr/local/lib/python3.12/dist-packages (from requests>=2.18->cobaya) (3.10)\n",
            "Requirement already satisfied: urllib3<3,>=1.21.1 in /usr/local/lib/python3.12/dist-packages (from requests>=2.18->cobaya) (2.5.0)\n",
            "Requirement already satisfied: certifi>=2017.4.17 in /usr/local/lib/python3.12/dist-packages (from requests>=2.18->cobaya) (2025.8.3)\n",
            "Requirement already satisfied: contourpy>=1.0.1 in /usr/local/lib/python3.12/dist-packages (from matplotlib!=3.5.0,>=2.2.0->GetDist>=1.3.1->cobaya) (1.3.3)\n",
            "Requirement already satisfied: cycler>=0.10 in /usr/local/lib/python3.12/dist-packages (from matplotlib!=3.5.0,>=2.2.0->GetDist>=1.3.1->cobaya) (0.12.1)\n",
            "Requirement already satisfied: fonttools>=4.22.0 in /usr/local/lib/python3.12/dist-packages (from matplotlib!=3.5.0,>=2.2.0->GetDist>=1.3.1->cobaya) (4.59.1)\n",
            "Requirement already satisfied: kiwisolver>=1.3.1 in /usr/local/lib/python3.12/dist-packages (from matplotlib!=3.5.0,>=2.2.0->GetDist>=1.3.1->cobaya) (1.4.9)\n",
            "Requirement already satisfied: pillow>=8 in /usr/local/lib/python3.12/dist-packages (from matplotlib!=3.5.0,>=2.2.0->GetDist>=1.3.1->cobaya) (11.3.0)\n",
            "Requirement already satisfied: pyparsing>=2.3.1 in /usr/local/lib/python3.12/dist-packages (from matplotlib!=3.5.0,>=2.2.0->GetDist>=1.3.1->cobaya) (3.2.3)\n",
            "Requirement already satisfied: six>=1.5 in /usr/local/lib/python3.12/dist-packages (from python-dateutil>=2.8.2->pandas>=1.0.1->cobaya) (1.17.0)\n"
          ]
        }
      ]
    },
    {
      "cell_type": "code",
      "source": [
        "!pip install -U setuptools"
      ],
      "metadata": {
        "colab": {
          "base_uri": "https://localhost:8080/"
        },
        "id": "5H3-z0CmNxOL",
        "outputId": "64cffb33-b37d-4be0-8987-c757d12540c5"
      },
      "execution_count": 10,
      "outputs": [
        {
          "output_type": "stream",
          "name": "stdout",
          "text": [
            "Requirement already satisfied: setuptools in /usr/local/lib/python3.12/dist-packages (80.9.0)\n"
          ]
        }
      ]
    },
    {
      "cell_type": "code",
      "source": [
        "!cobaya-install cosmo -p ."
      ],
      "metadata": {
        "colab": {
          "base_uri": "https://localhost:8080/"
        },
        "id": "Tmrnh6e6Irj-",
        "outputId": "86698c26-b9df-4d66-9909-fda0f3dafbae"
      },
      "execution_count": 11,
      "outputs": [
        {
          "output_type": "stream",
          "name": "stdout",
          "text": [
            "[install] Installing basic cosmological packages.\n",
            "[install] Installing external packages at '/content'\n",
            "[install] The installation path has been written into the global config file: /root/.config/cobaya/config.yaml\n",
            "\n",
            "================================================================================\n",
            "theory:camb\n",
            "================================================================================\n",
            "\n",
            "[install] Checking if dependencies have already been installed...\n",
            "[install] External dependencies for this component already installed.\n",
            "[install] Doing nothing.\n",
            "\n",
            "================================================================================\n",
            "theory:classy\n",
            "================================================================================\n",
            "\n",
            "[install] Checking if dependencies have already been installed...\n",
            "[install] Version check failed: Module classy at /content/code/classy/build/lib.linux-x86_64-cpython-312/classy is version (non-given) but the minimum required version is v3.2.1.\n",
            "[install] Skipping because '--upgrade' not requested.\n",
            "\n",
            "================================================================================\n",
            "likelihood:planck_2018_lowl.TT\n",
            "================================================================================\n",
            "\n",
            "[install] Checking if dependencies have already been installed...\n",
            "[install] External dependencies for this component already installed.\n",
            "[install] Doing nothing.\n",
            "\n",
            "================================================================================\n",
            "likelihood:planck_2018_lowl.EE\n",
            "================================================================================\n",
            "\n",
            "[install] Checking if dependencies have already been installed...\n",
            "[install] External dependencies for this component already installed.\n",
            "[install] Doing nothing.\n",
            "\n",
            "================================================================================\n",
            "likelihood:planck_NPIPE_highl_CamSpec.TTTEEE\n",
            "================================================================================\n",
            "\n",
            "[install] Checking if dependencies have already been installed...\n",
            "[install] External dependencies for this component already installed.\n",
            "[install] Doing nothing.\n",
            "\n",
            "================================================================================\n",
            "likelihood:planckpr4lensing\n",
            "================================================================================\n",
            "\n",
            "[install] Checking if dependencies have already been installed...\n",
            "[install] External dependencies for this component already installed.\n",
            "[install] Doing nothing.\n",
            "\n",
            "================================================================================\n",
            "likelihood:planck_2018_lensing.native\n",
            "================================================================================\n",
            "\n",
            "[install] Checking if dependencies have already been installed...\n",
            "[install] External dependencies for this component already installed.\n",
            "[install] Doing nothing.\n",
            "\n",
            "================================================================================\n",
            "likelihood:sn.pantheon\n",
            "================================================================================\n",
            "\n",
            "[install] Checking if dependencies have already been installed...\n",
            "[install] External dependencies for this component already installed.\n",
            "[install] Doing nothing.\n",
            "\n",
            "================================================================================\n",
            "likelihood:bao.sdss_dr12_consensus_final\n",
            "================================================================================\n",
            "\n",
            "[install] Checking if dependencies have already been installed...\n",
            "[install] External dependencies for this component already installed.\n",
            "[install] Doing nothing.\n",
            "\n",
            "================================================================================\n",
            "likelihood:des_y1.joint\n",
            "================================================================================\n",
            "\n",
            "[install] Checking if dependencies have already been installed...\n",
            "[install] External dependencies for this component already installed.\n",
            "[install] Doing nothing.\n",
            "\n",
            "================================================================================\n",
            "* Summary * \n",
            "================================================================================\n",
            "\n",
            "[install] *ERROR* The following packages are obsolete. Re-run with `--upgrade` option (not upgrading by default to preserve possible user changes): \n",
            " - theory:classy\n",
            "[exception handler] ---------------------------------------\n",
            "\n",
            "Traceback (most recent call last):\n",
            "  File \"/usr/local/bin/cobaya-install\", line 8, in <module>\n",
            "    sys.exit(install_script())\n",
            "             ^^^^^^^^^^^^^^^^\n",
            "  File \"/usr/local/lib/python3.12/dist-packages/cobaya/install.py\", line 648, in install_script\n",
            "    install(*infos, path=getattr(arguments, packages_path_arg), logger=logger,\n",
            "  File \"/usr/local/lib/python3.12/dist-packages/cobaya/install.py\", line 372, in install\n",
            "    raise LoggedError(\n",
            "cobaya.log.LoggedError: The following packages are obsolete. Re-run with `--upgrade` option (not upgrading by default to preserve possible user changes): \n",
            " - theory:classy\n",
            "-------------------------------------------------------------\n",
            "\n"
          ]
        }
      ]
    },
    {
      "cell_type": "code",
      "source": [
        "!pip install classy"
      ],
      "metadata": {
        "id": "M3fwFzzwPfqU",
        "outputId": "b8095500-8921-4d24-b2fb-06257eb1eb06",
        "colab": {
          "base_uri": "https://localhost:8080/"
        }
      },
      "execution_count": 12,
      "outputs": [
        {
          "output_type": "stream",
          "name": "stdout",
          "text": [
            "Requirement already satisfied: classy in /usr/local/lib/python3.12/dist-packages (3.3.2.0)\n"
          ]
        }
      ]
    },
    {
      "cell_type": "code",
      "execution_count": 69,
      "metadata": {
        "scrolled": true,
        "colab": {
          "base_uri": "https://localhost:8080/"
        },
        "id": "JO6w_sPqIS7K",
        "outputId": "fc45c7f4-4db4-4d45-dfad-ab4577d128d1"
      },
      "outputs": [
        {
          "output_type": "stream",
          "name": "stderr",
          "text": [
            "INFO:output:Output to be read-from/written-into folder '.', with prefix 'chains_exercise1'\n"
          ]
        },
        {
          "output_type": "stream",
          "name": "stdout",
          "text": [
            "[output] Output to be read-from/written-into folder '.', with prefix 'chains_exercise1'\n"
          ]
        },
        {
          "output_type": "stream",
          "name": "stderr",
          "text": [
            "INFO:output:Found existing info files with the requested output prefix: 'chains_exercise1'\n"
          ]
        },
        {
          "output_type": "stream",
          "name": "stdout",
          "text": [
            "[output] Found existing info files with the requested output prefix: 'chains_exercise1'\n"
          ]
        },
        {
          "output_type": "stream",
          "name": "stderr",
          "text": [
            "INFO:output:Will delete previous products ('force' was requested).\n"
          ]
        },
        {
          "output_type": "stream",
          "name": "stdout",
          "text": [
            "[output] Will delete previous products ('force' was requested).\n"
          ]
        },
        {
          "output_type": "stream",
          "name": "stderr",
          "text": [
            "INFO:mcmc:Getting initial point... (this may take a few seconds)\n"
          ]
        },
        {
          "output_type": "stream",
          "name": "stdout",
          "text": [
            "[mcmc] Getting initial point... (this may take a few seconds)\n"
          ]
        },
        {
          "output_type": "stream",
          "name": "stderr",
          "text": [
            "INFO:prior:Reference values or pdfs for some parameters were not provided. Sampling from the prior instead for those parameters.\n"
          ]
        },
        {
          "output_type": "stream",
          "name": "stdout",
          "text": [
            "[prior] Reference values or pdfs for some parameters were not provided. Sampling from the prior instead for those parameters.\n"
          ]
        },
        {
          "output_type": "stream",
          "name": "stderr",
          "text": [
            "INFO:mcmc:Initial point: a:1.719779, b:0\n"
          ]
        },
        {
          "output_type": "stream",
          "name": "stdout",
          "text": [
            "[mcmc] Initial point: a:1.719779, b:0\n"
          ]
        },
        {
          "output_type": "stream",
          "name": "stderr",
          "text": [
            "INFO:model:Measuring speeds... (this may take a few seconds)\n"
          ]
        },
        {
          "output_type": "stream",
          "name": "stdout",
          "text": [
            "[model] Measuring speeds... (this may take a few seconds)\n"
          ]
        },
        {
          "output_type": "stream",
          "name": "stderr",
          "text": [
            "INFO:model:Setting measured speeds (per sec): {gaussian_mixture: 6090.0}\n"
          ]
        },
        {
          "output_type": "stream",
          "name": "stdout",
          "text": [
            "[model] Setting measured speeds (per sec): {gaussian_mixture: 6090.0}\n"
          ]
        },
        {
          "output_type": "stream",
          "name": "stderr",
          "text": [
            "WARNING:prior:Reference pdf not defined or improper for some parameters. Using prior's sigma instead for them.\n"
          ]
        },
        {
          "output_type": "stream",
          "name": "stdout",
          "text": [
            "[prior] *WARNING* Reference pdf not defined or improper for some parameters. Using prior's sigma instead for them.\n"
          ]
        },
        {
          "output_type": "stream",
          "name": "stderr",
          "text": [
            "INFO:mcmc:Covariance matrix not present. We will start learning the covariance of the proposal earlier: R-1 = 30 (would be 2 if all params loaded).\n"
          ]
        },
        {
          "output_type": "stream",
          "name": "stdout",
          "text": [
            "[mcmc] Covariance matrix not present. We will start learning the covariance of the proposal earlier: R-1 = 30 (would be 2 if all params loaded).\n"
          ]
        },
        {
          "output_type": "stream",
          "name": "stderr",
          "text": [
            "INFO:mcmc:Sampling!\n"
          ]
        },
        {
          "output_type": "stream",
          "name": "stdout",
          "text": [
            "[mcmc] Sampling!\n"
          ]
        },
        {
          "output_type": "stream",
          "name": "stderr",
          "text": [
            "INFO:mcmc:Progress @ 2025-08-28 14:45:10 : 1 steps taken, and 0 accepted.\n"
          ]
        },
        {
          "output_type": "stream",
          "name": "stdout",
          "text": [
            "[mcmc] Progress @ 2025-08-28 14:45:10 : 1 steps taken, and 0 accepted.\n"
          ]
        },
        {
          "output_type": "stream",
          "name": "stderr",
          "text": [
            "INFO:mcmc:Learn + convergence test @ 80 samples accepted.\n"
          ]
        },
        {
          "output_type": "stream",
          "name": "stdout",
          "text": [
            "[mcmc] Learn + convergence test @ 80 samples accepted.\n"
          ]
        },
        {
          "output_type": "stream",
          "name": "stderr",
          "text": [
            "INFO:mcmc: - Acceptance rate: 0.192\n"
          ]
        },
        {
          "output_type": "stream",
          "name": "stdout",
          "text": [
            "[mcmc]  - Acceptance rate: 0.192\n"
          ]
        },
        {
          "output_type": "stream",
          "name": "stderr",
          "text": [
            "INFO:mcmc: - Convergence of means: R-1 = 0.300618 after 64 accepted steps\n"
          ]
        },
        {
          "output_type": "stream",
          "name": "stdout",
          "text": [
            "[mcmc]  - Convergence of means: R-1 = 0.300618 after 64 accepted steps\n"
          ]
        },
        {
          "output_type": "stream",
          "name": "stderr",
          "text": [
            "INFO:mcmc: - Updated covariance matrix of proposal pdf.\n"
          ]
        },
        {
          "output_type": "stream",
          "name": "stdout",
          "text": [
            "[mcmc]  - Updated covariance matrix of proposal pdf.\n"
          ]
        },
        {
          "output_type": "stream",
          "name": "stderr",
          "text": [
            "INFO:mcmc:Learn + convergence test @ 160 samples accepted.\n"
          ]
        },
        {
          "output_type": "stream",
          "name": "stdout",
          "text": [
            "[mcmc] Learn + convergence test @ 160 samples accepted.\n"
          ]
        },
        {
          "output_type": "stream",
          "name": "stderr",
          "text": [
            "INFO:mcmc: - Acceptance rate: 0.254\n"
          ]
        },
        {
          "output_type": "stream",
          "name": "stdout",
          "text": [
            "[mcmc]  - Acceptance rate: 0.254\n"
          ]
        },
        {
          "output_type": "stream",
          "name": "stderr",
          "text": [
            "INFO:mcmc: - Convergence of means: R-1 = 0.215661 after 128 accepted steps\n"
          ]
        },
        {
          "output_type": "stream",
          "name": "stdout",
          "text": [
            "[mcmc]  - Convergence of means: R-1 = 0.215661 after 128 accepted steps\n"
          ]
        },
        {
          "output_type": "stream",
          "name": "stderr",
          "text": [
            "INFO:mcmc: - Updated covariance matrix of proposal pdf.\n"
          ]
        },
        {
          "output_type": "stream",
          "name": "stdout",
          "text": [
            "[mcmc]  - Updated covariance matrix of proposal pdf.\n"
          ]
        },
        {
          "output_type": "stream",
          "name": "stderr",
          "text": [
            "INFO:mcmc:Learn + convergence test @ 240 samples accepted.\n"
          ]
        },
        {
          "output_type": "stream",
          "name": "stdout",
          "text": [
            "[mcmc] Learn + convergence test @ 240 samples accepted.\n"
          ]
        },
        {
          "output_type": "stream",
          "name": "stderr",
          "text": [
            "INFO:mcmc: - Acceptance rate: 0.281\n"
          ]
        },
        {
          "output_type": "stream",
          "name": "stdout",
          "text": [
            "[mcmc]  - Acceptance rate: 0.281\n"
          ]
        },
        {
          "output_type": "stream",
          "name": "stderr",
          "text": [
            "INFO:mcmc: - Convergence of means: R-1 = 0.066142 after 192 accepted steps\n"
          ]
        },
        {
          "output_type": "stream",
          "name": "stdout",
          "text": [
            "[mcmc]  - Convergence of means: R-1 = 0.066142 after 192 accepted steps\n"
          ]
        },
        {
          "output_type": "stream",
          "name": "stderr",
          "text": [
            "INFO:mcmc: - Updated covariance matrix of proposal pdf.\n"
          ]
        },
        {
          "output_type": "stream",
          "name": "stdout",
          "text": [
            "[mcmc]  - Updated covariance matrix of proposal pdf.\n"
          ]
        },
        {
          "output_type": "stream",
          "name": "stderr",
          "text": [
            "INFO:mcmc:Learn + convergence test @ 320 samples accepted.\n"
          ]
        },
        {
          "output_type": "stream",
          "name": "stdout",
          "text": [
            "[mcmc] Learn + convergence test @ 320 samples accepted.\n"
          ]
        },
        {
          "output_type": "stream",
          "name": "stderr",
          "text": [
            "INFO:mcmc: - Acceptance rate: 0.304\n"
          ]
        },
        {
          "output_type": "stream",
          "name": "stdout",
          "text": [
            "[mcmc]  - Acceptance rate: 0.304\n"
          ]
        },
        {
          "output_type": "stream",
          "name": "stderr",
          "text": [
            "INFO:mcmc: - Convergence of means: R-1 = 0.055656 after 256 accepted steps\n"
          ]
        },
        {
          "output_type": "stream",
          "name": "stdout",
          "text": [
            "[mcmc]  - Convergence of means: R-1 = 0.055656 after 256 accepted steps\n"
          ]
        },
        {
          "output_type": "stream",
          "name": "stderr",
          "text": [
            "INFO:mcmc: - Updated covariance matrix of proposal pdf.\n"
          ]
        },
        {
          "output_type": "stream",
          "name": "stdout",
          "text": [
            "[mcmc]  - Updated covariance matrix of proposal pdf.\n"
          ]
        },
        {
          "output_type": "stream",
          "name": "stderr",
          "text": [
            "INFO:mcmc:Learn + convergence test @ 400 samples accepted.\n"
          ]
        },
        {
          "output_type": "stream",
          "name": "stdout",
          "text": [
            "[mcmc] Learn + convergence test @ 400 samples accepted.\n"
          ]
        },
        {
          "output_type": "stream",
          "name": "stderr",
          "text": [
            "INFO:mcmc: - Acceptance rate: 0.304\n"
          ]
        },
        {
          "output_type": "stream",
          "name": "stdout",
          "text": [
            "[mcmc]  - Acceptance rate: 0.304\n"
          ]
        },
        {
          "output_type": "stream",
          "name": "stderr",
          "text": [
            "INFO:mcmc: - Convergence of means: R-1 = 0.146475 after 320 accepted steps\n"
          ]
        },
        {
          "output_type": "stream",
          "name": "stdout",
          "text": [
            "[mcmc]  - Convergence of means: R-1 = 0.146475 after 320 accepted steps\n"
          ]
        },
        {
          "output_type": "stream",
          "name": "stderr",
          "text": [
            "INFO:mcmc: - Updated covariance matrix of proposal pdf.\n"
          ]
        },
        {
          "output_type": "stream",
          "name": "stdout",
          "text": [
            "[mcmc]  - Updated covariance matrix of proposal pdf.\n"
          ]
        },
        {
          "output_type": "stream",
          "name": "stderr",
          "text": [
            "INFO:mcmc:Learn + convergence test @ 480 samples accepted.\n"
          ]
        },
        {
          "output_type": "stream",
          "name": "stdout",
          "text": [
            "[mcmc] Learn + convergence test @ 480 samples accepted.\n"
          ]
        },
        {
          "output_type": "stream",
          "name": "stderr",
          "text": [
            "INFO:mcmc: - Acceptance rate: 0.308\n"
          ]
        },
        {
          "output_type": "stream",
          "name": "stdout",
          "text": [
            "[mcmc]  - Acceptance rate: 0.308\n"
          ]
        },
        {
          "output_type": "stream",
          "name": "stderr",
          "text": [
            "INFO:mcmc: - Convergence of means: R-1 = 0.085269 after 384 accepted steps\n"
          ]
        },
        {
          "output_type": "stream",
          "name": "stdout",
          "text": [
            "[mcmc]  - Convergence of means: R-1 = 0.085269 after 384 accepted steps\n"
          ]
        },
        {
          "output_type": "stream",
          "name": "stderr",
          "text": [
            "INFO:mcmc: - Updated covariance matrix of proposal pdf.\n"
          ]
        },
        {
          "output_type": "stream",
          "name": "stdout",
          "text": [
            "[mcmc]  - Updated covariance matrix of proposal pdf.\n"
          ]
        },
        {
          "output_type": "stream",
          "name": "stderr",
          "text": [
            "INFO:mcmc:Learn + convergence test @ 560 samples accepted.\n"
          ]
        },
        {
          "output_type": "stream",
          "name": "stdout",
          "text": [
            "[mcmc] Learn + convergence test @ 560 samples accepted.\n"
          ]
        },
        {
          "output_type": "stream",
          "name": "stderr",
          "text": [
            "INFO:mcmc: - Acceptance rate: 0.314\n"
          ]
        },
        {
          "output_type": "stream",
          "name": "stdout",
          "text": [
            "[mcmc]  - Acceptance rate: 0.314\n"
          ]
        },
        {
          "output_type": "stream",
          "name": "stderr",
          "text": [
            "INFO:mcmc: - Convergence of means: R-1 = 0.055511 after 448 accepted steps\n"
          ]
        },
        {
          "output_type": "stream",
          "name": "stdout",
          "text": [
            "[mcmc]  - Convergence of means: R-1 = 0.055511 after 448 accepted steps\n"
          ]
        },
        {
          "output_type": "stream",
          "name": "stderr",
          "text": [
            "INFO:mcmc: - Updated covariance matrix of proposal pdf.\n"
          ]
        },
        {
          "output_type": "stream",
          "name": "stdout",
          "text": [
            "[mcmc]  - Updated covariance matrix of proposal pdf.\n"
          ]
        },
        {
          "output_type": "stream",
          "name": "stderr",
          "text": [
            "INFO:mcmc:Learn + convergence test @ 640 samples accepted.\n"
          ]
        },
        {
          "output_type": "stream",
          "name": "stdout",
          "text": [
            "[mcmc] Learn + convergence test @ 640 samples accepted.\n"
          ]
        },
        {
          "output_type": "stream",
          "name": "stderr",
          "text": [
            "INFO:mcmc: - Acceptance rate: 0.316\n"
          ]
        },
        {
          "output_type": "stream",
          "name": "stdout",
          "text": [
            "[mcmc]  - Acceptance rate: 0.316\n"
          ]
        },
        {
          "output_type": "stream",
          "name": "stderr",
          "text": [
            "INFO:mcmc: - Convergence of means: R-1 = 0.062250 after 512 accepted steps\n"
          ]
        },
        {
          "output_type": "stream",
          "name": "stdout",
          "text": [
            "[mcmc]  - Convergence of means: R-1 = 0.062250 after 512 accepted steps\n"
          ]
        },
        {
          "output_type": "stream",
          "name": "stderr",
          "text": [
            "INFO:mcmc: - Updated covariance matrix of proposal pdf.\n"
          ]
        },
        {
          "output_type": "stream",
          "name": "stdout",
          "text": [
            "[mcmc]  - Updated covariance matrix of proposal pdf.\n"
          ]
        },
        {
          "output_type": "stream",
          "name": "stderr",
          "text": [
            "INFO:mcmc:Learn + convergence test @ 720 samples accepted.\n"
          ]
        },
        {
          "output_type": "stream",
          "name": "stdout",
          "text": [
            "[mcmc] Learn + convergence test @ 720 samples accepted.\n"
          ]
        },
        {
          "output_type": "stream",
          "name": "stderr",
          "text": [
            "INFO:mcmc: - Acceptance rate: 0.320\n"
          ]
        },
        {
          "output_type": "stream",
          "name": "stdout",
          "text": [
            "[mcmc]  - Acceptance rate: 0.320\n"
          ]
        },
        {
          "output_type": "stream",
          "name": "stderr",
          "text": [
            "INFO:mcmc: - Convergence of means: R-1 = 0.031070 after 576 accepted steps\n"
          ]
        },
        {
          "output_type": "stream",
          "name": "stdout",
          "text": [
            "[mcmc]  - Convergence of means: R-1 = 0.031070 after 576 accepted steps\n"
          ]
        },
        {
          "output_type": "stream",
          "name": "stderr",
          "text": [
            "INFO:mcmc: - Updated covariance matrix of proposal pdf.\n"
          ]
        },
        {
          "output_type": "stream",
          "name": "stdout",
          "text": [
            "[mcmc]  - Updated covariance matrix of proposal pdf.\n"
          ]
        },
        {
          "output_type": "stream",
          "name": "stderr",
          "text": [
            "INFO:mcmc:Learn + convergence test @ 800 samples accepted.\n"
          ]
        },
        {
          "output_type": "stream",
          "name": "stdout",
          "text": [
            "[mcmc] Learn + convergence test @ 800 samples accepted.\n"
          ]
        },
        {
          "output_type": "stream",
          "name": "stderr",
          "text": [
            "INFO:mcmc: - Acceptance rate: 0.320\n"
          ]
        },
        {
          "output_type": "stream",
          "name": "stdout",
          "text": [
            "[mcmc]  - Acceptance rate: 0.320\n"
          ]
        },
        {
          "output_type": "stream",
          "name": "stderr",
          "text": [
            "INFO:mcmc: - Convergence of means: R-1 = 0.048818 after 640 accepted steps\n"
          ]
        },
        {
          "output_type": "stream",
          "name": "stdout",
          "text": [
            "[mcmc]  - Convergence of means: R-1 = 0.048818 after 640 accepted steps\n"
          ]
        },
        {
          "output_type": "stream",
          "name": "stderr",
          "text": [
            "INFO:mcmc: - Updated covariance matrix of proposal pdf.\n"
          ]
        },
        {
          "output_type": "stream",
          "name": "stdout",
          "text": [
            "[mcmc]  - Updated covariance matrix of proposal pdf.\n"
          ]
        },
        {
          "output_type": "stream",
          "name": "stderr",
          "text": [
            "INFO:mcmc:Learn + convergence test @ 880 samples accepted.\n"
          ]
        },
        {
          "output_type": "stream",
          "name": "stdout",
          "text": [
            "[mcmc] Learn + convergence test @ 880 samples accepted.\n"
          ]
        },
        {
          "output_type": "stream",
          "name": "stderr",
          "text": [
            "INFO:mcmc: - Acceptance rate: 0.318\n"
          ]
        },
        {
          "output_type": "stream",
          "name": "stdout",
          "text": [
            "[mcmc]  - Acceptance rate: 0.318\n"
          ]
        },
        {
          "output_type": "stream",
          "name": "stderr",
          "text": [
            "INFO:mcmc: - Convergence of means: R-1 = 0.039952 after 704 accepted steps\n"
          ]
        },
        {
          "output_type": "stream",
          "name": "stdout",
          "text": [
            "[mcmc]  - Convergence of means: R-1 = 0.039952 after 704 accepted steps\n"
          ]
        },
        {
          "output_type": "stream",
          "name": "stderr",
          "text": [
            "INFO:mcmc: - Updated covariance matrix of proposal pdf.\n"
          ]
        },
        {
          "output_type": "stream",
          "name": "stdout",
          "text": [
            "[mcmc]  - Updated covariance matrix of proposal pdf.\n"
          ]
        },
        {
          "output_type": "stream",
          "name": "stderr",
          "text": [
            "INFO:mcmc:Learn + convergence test @ 960 samples accepted.\n"
          ]
        },
        {
          "output_type": "stream",
          "name": "stdout",
          "text": [
            "[mcmc] Learn + convergence test @ 960 samples accepted.\n"
          ]
        },
        {
          "output_type": "stream",
          "name": "stderr",
          "text": [
            "INFO:mcmc: - Acceptance rate: 0.319\n"
          ]
        },
        {
          "output_type": "stream",
          "name": "stdout",
          "text": [
            "[mcmc]  - Acceptance rate: 0.319\n"
          ]
        },
        {
          "output_type": "stream",
          "name": "stderr",
          "text": [
            "INFO:mcmc: - Convergence of means: R-1 = 0.010003 after 768 accepted steps\n"
          ]
        },
        {
          "output_type": "stream",
          "name": "stdout",
          "text": [
            "[mcmc]  - Convergence of means: R-1 = 0.010003 after 768 accepted steps\n"
          ]
        },
        {
          "output_type": "stream",
          "name": "stderr",
          "text": [
            "INFO:mcmc: - Updated covariance matrix of proposal pdf.\n"
          ]
        },
        {
          "output_type": "stream",
          "name": "stdout",
          "text": [
            "[mcmc]  - Updated covariance matrix of proposal pdf.\n"
          ]
        },
        {
          "output_type": "stream",
          "name": "stderr",
          "text": [
            "INFO:mcmc:Learn + convergence test @ 1040 samples accepted.\n"
          ]
        },
        {
          "output_type": "stream",
          "name": "stdout",
          "text": [
            "[mcmc] Learn + convergence test @ 1040 samples accepted.\n"
          ]
        },
        {
          "output_type": "stream",
          "name": "stderr",
          "text": [
            "INFO:mcmc: - Acceptance rate: 0.318\n"
          ]
        },
        {
          "output_type": "stream",
          "name": "stdout",
          "text": [
            "[mcmc]  - Acceptance rate: 0.318\n"
          ]
        },
        {
          "output_type": "stream",
          "name": "stderr",
          "text": [
            "INFO:mcmc: - Convergence of means: R-1 = 0.011367 after 832 accepted steps\n"
          ]
        },
        {
          "output_type": "stream",
          "name": "stdout",
          "text": [
            "[mcmc]  - Convergence of means: R-1 = 0.011367 after 832 accepted steps\n"
          ]
        },
        {
          "output_type": "stream",
          "name": "stderr",
          "text": [
            "INFO:mcmc: - Updated covariance matrix of proposal pdf.\n"
          ]
        },
        {
          "output_type": "stream",
          "name": "stdout",
          "text": [
            "[mcmc]  - Updated covariance matrix of proposal pdf.\n"
          ]
        },
        {
          "output_type": "stream",
          "name": "stderr",
          "text": [
            "INFO:mcmc:Learn + convergence test @ 1120 samples accepted.\n"
          ]
        },
        {
          "output_type": "stream",
          "name": "stdout",
          "text": [
            "[mcmc] Learn + convergence test @ 1120 samples accepted.\n"
          ]
        },
        {
          "output_type": "stream",
          "name": "stderr",
          "text": [
            "INFO:mcmc: - Acceptance rate: 0.318\n"
          ]
        },
        {
          "output_type": "stream",
          "name": "stdout",
          "text": [
            "[mcmc]  - Acceptance rate: 0.318\n"
          ]
        },
        {
          "output_type": "stream",
          "name": "stderr",
          "text": [
            "INFO:mcmc: - Convergence of means: R-1 = 0.023160 after 896 accepted steps\n"
          ]
        },
        {
          "output_type": "stream",
          "name": "stdout",
          "text": [
            "[mcmc]  - Convergence of means: R-1 = 0.023160 after 896 accepted steps\n"
          ]
        },
        {
          "output_type": "stream",
          "name": "stderr",
          "text": [
            "INFO:mcmc: - Updated covariance matrix of proposal pdf.\n"
          ]
        },
        {
          "output_type": "stream",
          "name": "stdout",
          "text": [
            "[mcmc]  - Updated covariance matrix of proposal pdf.\n"
          ]
        },
        {
          "output_type": "stream",
          "name": "stderr",
          "text": [
            "INFO:mcmc:Learn + convergence test @ 1200 samples accepted.\n"
          ]
        },
        {
          "output_type": "stream",
          "name": "stdout",
          "text": [
            "[mcmc] Learn + convergence test @ 1200 samples accepted.\n"
          ]
        },
        {
          "output_type": "stream",
          "name": "stderr",
          "text": [
            "INFO:mcmc: - Acceptance rate: 0.317\n"
          ]
        },
        {
          "output_type": "stream",
          "name": "stdout",
          "text": [
            "[mcmc]  - Acceptance rate: 0.317\n"
          ]
        },
        {
          "output_type": "stream",
          "name": "stderr",
          "text": [
            "INFO:mcmc: - Convergence of means: R-1 = 0.020332 after 960 accepted steps\n"
          ]
        },
        {
          "output_type": "stream",
          "name": "stdout",
          "text": [
            "[mcmc]  - Convergence of means: R-1 = 0.020332 after 960 accepted steps\n"
          ]
        },
        {
          "output_type": "stream",
          "name": "stderr",
          "text": [
            "INFO:mcmc: - Updated covariance matrix of proposal pdf.\n"
          ]
        },
        {
          "output_type": "stream",
          "name": "stdout",
          "text": [
            "[mcmc]  - Updated covariance matrix of proposal pdf.\n"
          ]
        },
        {
          "output_type": "stream",
          "name": "stderr",
          "text": [
            "INFO:mcmc:Learn + convergence test @ 1280 samples accepted.\n"
          ]
        },
        {
          "output_type": "stream",
          "name": "stdout",
          "text": [
            "[mcmc] Learn + convergence test @ 1280 samples accepted.\n"
          ]
        },
        {
          "output_type": "stream",
          "name": "stderr",
          "text": [
            "INFO:mcmc: - Acceptance rate: 0.314\n"
          ]
        },
        {
          "output_type": "stream",
          "name": "stdout",
          "text": [
            "[mcmc]  - Acceptance rate: 0.314\n"
          ]
        },
        {
          "output_type": "stream",
          "name": "stderr",
          "text": [
            "INFO:mcmc: - Convergence of means: R-1 = 0.015405 after 1024 accepted steps\n"
          ]
        },
        {
          "output_type": "stream",
          "name": "stdout",
          "text": [
            "[mcmc]  - Convergence of means: R-1 = 0.015405 after 1024 accepted steps\n"
          ]
        },
        {
          "output_type": "stream",
          "name": "stderr",
          "text": [
            "INFO:mcmc: - Updated covariance matrix of proposal pdf.\n"
          ]
        },
        {
          "output_type": "stream",
          "name": "stdout",
          "text": [
            "[mcmc]  - Updated covariance matrix of proposal pdf.\n"
          ]
        },
        {
          "output_type": "stream",
          "name": "stderr",
          "text": [
            "INFO:mcmc:Learn + convergence test @ 1360 samples accepted.\n"
          ]
        },
        {
          "output_type": "stream",
          "name": "stdout",
          "text": [
            "[mcmc] Learn + convergence test @ 1360 samples accepted.\n"
          ]
        },
        {
          "output_type": "stream",
          "name": "stderr",
          "text": [
            "INFO:mcmc: - Acceptance rate: 0.311\n"
          ]
        },
        {
          "output_type": "stream",
          "name": "stdout",
          "text": [
            "[mcmc]  - Acceptance rate: 0.311\n"
          ]
        },
        {
          "output_type": "stream",
          "name": "stderr",
          "text": [
            "INFO:mcmc: - Convergence of means: R-1 = 0.015093 after 1088 accepted steps\n"
          ]
        },
        {
          "output_type": "stream",
          "name": "stdout",
          "text": [
            "[mcmc]  - Convergence of means: R-1 = 0.015093 after 1088 accepted steps\n"
          ]
        },
        {
          "output_type": "stream",
          "name": "stderr",
          "text": [
            "INFO:mcmc: - Updated covariance matrix of proposal pdf.\n"
          ]
        },
        {
          "output_type": "stream",
          "name": "stdout",
          "text": [
            "[mcmc]  - Updated covariance matrix of proposal pdf.\n"
          ]
        },
        {
          "output_type": "stream",
          "name": "stderr",
          "text": [
            "INFO:mcmc:Learn + convergence test @ 1440 samples accepted.\n"
          ]
        },
        {
          "output_type": "stream",
          "name": "stdout",
          "text": [
            "[mcmc] Learn + convergence test @ 1440 samples accepted.\n"
          ]
        },
        {
          "output_type": "stream",
          "name": "stderr",
          "text": [
            "INFO:mcmc: - Acceptance rate: 0.307\n"
          ]
        },
        {
          "output_type": "stream",
          "name": "stdout",
          "text": [
            "[mcmc]  - Acceptance rate: 0.307\n"
          ]
        },
        {
          "output_type": "stream",
          "name": "stderr",
          "text": [
            "INFO:mcmc: - Convergence of means: R-1 = 0.008032 after 1152 accepted steps\n"
          ]
        },
        {
          "output_type": "stream",
          "name": "stdout",
          "text": [
            "[mcmc]  - Convergence of means: R-1 = 0.008032 after 1152 accepted steps\n"
          ]
        },
        {
          "output_type": "stream",
          "name": "stderr",
          "text": [
            "INFO:mcmc: - Updated covariance matrix of proposal pdf.\n"
          ]
        },
        {
          "output_type": "stream",
          "name": "stdout",
          "text": [
            "[mcmc]  - Updated covariance matrix of proposal pdf.\n"
          ]
        },
        {
          "output_type": "stream",
          "name": "stderr",
          "text": [
            "INFO:mcmc:Learn + convergence test @ 1520 samples accepted.\n"
          ]
        },
        {
          "output_type": "stream",
          "name": "stdout",
          "text": [
            "[mcmc] Learn + convergence test @ 1520 samples accepted.\n"
          ]
        },
        {
          "output_type": "stream",
          "name": "stderr",
          "text": [
            "INFO:mcmc: - Acceptance rate: 0.307\n"
          ]
        },
        {
          "output_type": "stream",
          "name": "stdout",
          "text": [
            "[mcmc]  - Acceptance rate: 0.307\n"
          ]
        },
        {
          "output_type": "stream",
          "name": "stderr",
          "text": [
            "INFO:mcmc: - Convergence of means: R-1 = 0.013225 after 1216 accepted steps\n"
          ]
        },
        {
          "output_type": "stream",
          "name": "stdout",
          "text": [
            "[mcmc]  - Convergence of means: R-1 = 0.013225 after 1216 accepted steps\n"
          ]
        },
        {
          "output_type": "stream",
          "name": "stderr",
          "text": [
            "INFO:mcmc: - Updated covariance matrix of proposal pdf.\n"
          ]
        },
        {
          "output_type": "stream",
          "name": "stdout",
          "text": [
            "[mcmc]  - Updated covariance matrix of proposal pdf.\n"
          ]
        },
        {
          "output_type": "stream",
          "name": "stderr",
          "text": [
            "INFO:mcmc:Learn + convergence test @ 1600 samples accepted.\n"
          ]
        },
        {
          "output_type": "stream",
          "name": "stdout",
          "text": [
            "[mcmc] Learn + convergence test @ 1600 samples accepted.\n"
          ]
        },
        {
          "output_type": "stream",
          "name": "stderr",
          "text": [
            "INFO:mcmc: - Acceptance rate: 0.306\n"
          ]
        },
        {
          "output_type": "stream",
          "name": "stdout",
          "text": [
            "[mcmc]  - Acceptance rate: 0.306\n"
          ]
        },
        {
          "output_type": "stream",
          "name": "stderr",
          "text": [
            "INFO:mcmc: - Convergence of means: R-1 = 0.019373 after 1280 accepted steps\n"
          ]
        },
        {
          "output_type": "stream",
          "name": "stdout",
          "text": [
            "[mcmc]  - Convergence of means: R-1 = 0.019373 after 1280 accepted steps\n"
          ]
        },
        {
          "output_type": "stream",
          "name": "stderr",
          "text": [
            "INFO:mcmc: - Updated covariance matrix of proposal pdf.\n"
          ]
        },
        {
          "output_type": "stream",
          "name": "stdout",
          "text": [
            "[mcmc]  - Updated covariance matrix of proposal pdf.\n"
          ]
        },
        {
          "output_type": "stream",
          "name": "stderr",
          "text": [
            "INFO:mcmc:Learn + convergence test @ 1680 samples accepted.\n"
          ]
        },
        {
          "output_type": "stream",
          "name": "stdout",
          "text": [
            "[mcmc] Learn + convergence test @ 1680 samples accepted.\n"
          ]
        },
        {
          "output_type": "stream",
          "name": "stderr",
          "text": [
            "INFO:mcmc: - Acceptance rate: 0.310\n"
          ]
        },
        {
          "output_type": "stream",
          "name": "stdout",
          "text": [
            "[mcmc]  - Acceptance rate: 0.310\n"
          ]
        },
        {
          "output_type": "stream",
          "name": "stderr",
          "text": [
            "INFO:mcmc: - Convergence of means: R-1 = 0.012803 after 1344 accepted steps\n"
          ]
        },
        {
          "output_type": "stream",
          "name": "stdout",
          "text": [
            "[mcmc]  - Convergence of means: R-1 = 0.012803 after 1344 accepted steps\n"
          ]
        },
        {
          "output_type": "stream",
          "name": "stderr",
          "text": [
            "INFO:mcmc: - Updated covariance matrix of proposal pdf.\n"
          ]
        },
        {
          "output_type": "stream",
          "name": "stdout",
          "text": [
            "[mcmc]  - Updated covariance matrix of proposal pdf.\n"
          ]
        },
        {
          "output_type": "stream",
          "name": "stderr",
          "text": [
            "INFO:mcmc:Learn + convergence test @ 1760 samples accepted.\n"
          ]
        },
        {
          "output_type": "stream",
          "name": "stdout",
          "text": [
            "[mcmc] Learn + convergence test @ 1760 samples accepted.\n"
          ]
        },
        {
          "output_type": "stream",
          "name": "stderr",
          "text": [
            "INFO:mcmc: - Acceptance rate: 0.308\n"
          ]
        },
        {
          "output_type": "stream",
          "name": "stdout",
          "text": [
            "[mcmc]  - Acceptance rate: 0.308\n"
          ]
        },
        {
          "output_type": "stream",
          "name": "stderr",
          "text": [
            "INFO:mcmc: - Convergence of means: R-1 = 0.015285 after 1408 accepted steps\n"
          ]
        },
        {
          "output_type": "stream",
          "name": "stdout",
          "text": [
            "[mcmc]  - Convergence of means: R-1 = 0.015285 after 1408 accepted steps\n"
          ]
        },
        {
          "output_type": "stream",
          "name": "stderr",
          "text": [
            "INFO:mcmc: - Updated covariance matrix of proposal pdf.\n"
          ]
        },
        {
          "output_type": "stream",
          "name": "stdout",
          "text": [
            "[mcmc]  - Updated covariance matrix of proposal pdf.\n"
          ]
        },
        {
          "output_type": "stream",
          "name": "stderr",
          "text": [
            "INFO:mcmc:Learn + convergence test @ 1840 samples accepted.\n"
          ]
        },
        {
          "output_type": "stream",
          "name": "stdout",
          "text": [
            "[mcmc] Learn + convergence test @ 1840 samples accepted.\n"
          ]
        },
        {
          "output_type": "stream",
          "name": "stderr",
          "text": [
            "INFO:mcmc: - Acceptance rate: 0.309\n"
          ]
        },
        {
          "output_type": "stream",
          "name": "stdout",
          "text": [
            "[mcmc]  - Acceptance rate: 0.309\n"
          ]
        },
        {
          "output_type": "stream",
          "name": "stderr",
          "text": [
            "INFO:mcmc: - Convergence of means: R-1 = 0.011023 after 1472 accepted steps\n"
          ]
        },
        {
          "output_type": "stream",
          "name": "stdout",
          "text": [
            "[mcmc]  - Convergence of means: R-1 = 0.011023 after 1472 accepted steps\n"
          ]
        },
        {
          "output_type": "stream",
          "name": "stderr",
          "text": [
            "INFO:mcmc: - Updated covariance matrix of proposal pdf.\n"
          ]
        },
        {
          "output_type": "stream",
          "name": "stdout",
          "text": [
            "[mcmc]  - Updated covariance matrix of proposal pdf.\n"
          ]
        },
        {
          "output_type": "stream",
          "name": "stderr",
          "text": [
            "INFO:mcmc:Learn + convergence test @ 1920 samples accepted.\n"
          ]
        },
        {
          "output_type": "stream",
          "name": "stdout",
          "text": [
            "[mcmc] Learn + convergence test @ 1920 samples accepted.\n"
          ]
        },
        {
          "output_type": "stream",
          "name": "stderr",
          "text": [
            "INFO:mcmc: - Acceptance rate: 0.308\n"
          ]
        },
        {
          "output_type": "stream",
          "name": "stdout",
          "text": [
            "[mcmc]  - Acceptance rate: 0.308\n"
          ]
        },
        {
          "output_type": "stream",
          "name": "stderr",
          "text": [
            "INFO:mcmc: - Convergence of means: R-1 = 0.009145 after 1536 accepted steps\n"
          ]
        },
        {
          "output_type": "stream",
          "name": "stdout",
          "text": [
            "[mcmc]  - Convergence of means: R-1 = 0.009145 after 1536 accepted steps\n"
          ]
        },
        {
          "output_type": "stream",
          "name": "stderr",
          "text": [
            "INFO:mcmc: - Updated covariance matrix of proposal pdf.\n"
          ]
        },
        {
          "output_type": "stream",
          "name": "stdout",
          "text": [
            "[mcmc]  - Updated covariance matrix of proposal pdf.\n"
          ]
        },
        {
          "output_type": "stream",
          "name": "stderr",
          "text": [
            "INFO:mcmc:Learn + convergence test @ 2000 samples accepted.\n"
          ]
        },
        {
          "output_type": "stream",
          "name": "stdout",
          "text": [
            "[mcmc] Learn + convergence test @ 2000 samples accepted.\n"
          ]
        },
        {
          "output_type": "stream",
          "name": "stderr",
          "text": [
            "INFO:mcmc: - Acceptance rate: 0.308\n"
          ]
        },
        {
          "output_type": "stream",
          "name": "stdout",
          "text": [
            "[mcmc]  - Acceptance rate: 0.308\n"
          ]
        },
        {
          "output_type": "stream",
          "name": "stderr",
          "text": [
            "INFO:mcmc: - Convergence of means: R-1 = 0.011150 after 1600 accepted steps\n"
          ]
        },
        {
          "output_type": "stream",
          "name": "stdout",
          "text": [
            "[mcmc]  - Convergence of means: R-1 = 0.011150 after 1600 accepted steps\n"
          ]
        },
        {
          "output_type": "stream",
          "name": "stderr",
          "text": [
            "INFO:mcmc: - Updated covariance matrix of proposal pdf.\n"
          ]
        },
        {
          "output_type": "stream",
          "name": "stdout",
          "text": [
            "[mcmc]  - Updated covariance matrix of proposal pdf.\n"
          ]
        },
        {
          "output_type": "stream",
          "name": "stderr",
          "text": [
            "INFO:mcmc:Learn + convergence test @ 2080 samples accepted.\n"
          ]
        },
        {
          "output_type": "stream",
          "name": "stdout",
          "text": [
            "[mcmc] Learn + convergence test @ 2080 samples accepted.\n"
          ]
        },
        {
          "output_type": "stream",
          "name": "stderr",
          "text": [
            "INFO:mcmc: - Acceptance rate: 0.307\n"
          ]
        },
        {
          "output_type": "stream",
          "name": "stdout",
          "text": [
            "[mcmc]  - Acceptance rate: 0.307\n"
          ]
        },
        {
          "output_type": "stream",
          "name": "stderr",
          "text": [
            "INFO:mcmc: - Convergence of means: R-1 = 0.009563 after 1664 accepted steps\n"
          ]
        },
        {
          "output_type": "stream",
          "name": "stdout",
          "text": [
            "[mcmc]  - Convergence of means: R-1 = 0.009563 after 1664 accepted steps\n"
          ]
        },
        {
          "output_type": "stream",
          "name": "stderr",
          "text": [
            "INFO:mcmc: - Updated covariance matrix of proposal pdf.\n"
          ]
        },
        {
          "output_type": "stream",
          "name": "stdout",
          "text": [
            "[mcmc]  - Updated covariance matrix of proposal pdf.\n"
          ]
        },
        {
          "output_type": "stream",
          "name": "stderr",
          "text": [
            "INFO:mcmc:Learn + convergence test @ 2160 samples accepted.\n"
          ]
        },
        {
          "output_type": "stream",
          "name": "stdout",
          "text": [
            "[mcmc] Learn + convergence test @ 2160 samples accepted.\n"
          ]
        },
        {
          "output_type": "stream",
          "name": "stderr",
          "text": [
            "INFO:mcmc: - Acceptance rate: 0.306\n"
          ]
        },
        {
          "output_type": "stream",
          "name": "stdout",
          "text": [
            "[mcmc]  - Acceptance rate: 0.306\n"
          ]
        },
        {
          "output_type": "stream",
          "name": "stderr",
          "text": [
            "INFO:mcmc: - Convergence of means: R-1 = 0.008178 after 1728 accepted steps\n"
          ]
        },
        {
          "output_type": "stream",
          "name": "stdout",
          "text": [
            "[mcmc]  - Convergence of means: R-1 = 0.008178 after 1728 accepted steps\n"
          ]
        },
        {
          "output_type": "stream",
          "name": "stderr",
          "text": [
            "INFO:mcmc: - Convergence of bounds: R-1 = 0.093628 after 2160 accepted steps\n"
          ]
        },
        {
          "output_type": "stream",
          "name": "stdout",
          "text": [
            "[mcmc]  - Convergence of bounds: R-1 = 0.093628 after 2160 accepted steps\n"
          ]
        },
        {
          "output_type": "stream",
          "name": "stderr",
          "text": [
            "INFO:mcmc:The run has converged!\n"
          ]
        },
        {
          "output_type": "stream",
          "name": "stdout",
          "text": [
            "[mcmc] The run has converged!\n"
          ]
        },
        {
          "output_type": "stream",
          "name": "stderr",
          "text": [
            "INFO:mcmc:Sampling complete after 2160 accepted steps.\n"
          ]
        },
        {
          "output_type": "stream",
          "name": "stdout",
          "text": [
            "[mcmc] Sampling complete after 2160 accepted steps.\n"
          ]
        }
      ],
      "source": [
        "#  We import Cobaya\n",
        "from cobaya.run import run\n",
        "# Now we run!\n",
        "updated_info, sampler = run(info)"
      ]
    },
    {
      "cell_type": "markdown",
      "metadata": {
        "id": "CooVWVwfIS7M"
      },
      "source": [
        "### Plot the corresponding distribution using GetDist\n",
        "\n",
        "Do not forget to open the GetDist html DEMO: https://getdist.readthedocs.io/en/latest/plot_gallery.html"
      ]
    },
    {
      "cell_type": "code",
      "source": [],
      "metadata": {
        "id": "8NNfUDilqeWm",
        "outputId": "c9a3064a-8df4-497e-86bd-472064ef8a67",
        "colab": {
          "base_uri": "https://localhost:8080/"
        }
      },
      "execution_count": 24,
      "outputs": [
        {
          "output_type": "stream",
          "name": "stderr",
          "text": [
            "WARNING:root:outlier fraction 0.026704545454545453 \n"
          ]
        },
        {
          "output_type": "stream",
          "name": "stdout",
          "text": [
            "[root] *WARNING* outlier fraction 0.026704545454545453 \n",
            "<getdist.mcsamples.MCSamples object at 0x7ba263abb1a0>\n"
          ]
        }
      ]
    },
    {
      "cell_type": "code",
      "source": [
        "chain = sampler.products()"
      ],
      "metadata": {
        "id": "TOtCTyJlsy2o"
      },
      "execution_count": 70,
      "outputs": []
    },
    {
      "cell_type": "code",
      "source": [
        "chain[\"sample\"]"
      ],
      "metadata": {
        "id": "DplXmB7NuCHI",
        "outputId": "6beed8e4-33a4-489c-85c7-28fc13cfd98d",
        "colab": {
          "base_uri": "https://localhost:8080/"
        }
      },
      "execution_count": 31,
      "outputs": [
        {
          "output_type": "execute_result",
          "data": {
            "text/plain": [
              "      weight  minuslogpost         a         b  hyperparam_a  derived_b  \\\n",
              "0       16.0      2.154240  0.037609  0.029710     -0.513527   0.265114   \n",
              "1       16.0      2.290136  0.067237 -0.308576     -0.419832  -0.578957   \n",
              "2        2.0      2.249285  0.174825 -0.288602     -0.079610  -0.659802   \n",
              "3       14.0      2.234395  0.105249 -0.285463     -0.299630  -0.569139   \n",
              "4        4.0      2.920974  0.419173 -0.359722      0.693086  -1.121863   \n",
              "...      ...           ...       ...       ...           ...        ...   \n",
              "1755     2.0      5.270572 -0.254958  0.620838     -1.438703   2.027865   \n",
              "1756     3.0      5.547476 -0.070419  0.859299     -0.855139   2.377329   \n",
              "1757     4.0      5.926230 -0.103055  0.887775     -0.958344   2.484409   \n",
              "1758     1.0      5.594928 -0.371852  0.516498     -1.808355   1.918159   \n",
              "1759     1.0      5.135449 -0.398297  0.372639     -1.891980   1.605879   \n",
              "\n",
              "      minuslogprior  minuslogprior__0      chi2  chi2__gaussian_mixture  \n",
              "0          2.172143          2.172143 -0.035805               -0.035805  \n",
              "1          2.219311          2.219311  0.141650                0.141650  \n",
              "2          2.213347          2.213347  0.071876                0.071876  \n",
              "3          2.212446          2.212446  0.043897                0.043897  \n",
              "4          2.236402          2.236402  1.369144                1.369144  \n",
              "...             ...               ...       ...                     ...  \n",
              "1755       2.364421          2.364421  5.812301                5.812301  \n",
              "1756       2.540899          2.540899  6.013155                6.013155  \n",
              "1757       2.565774          2.565774  6.720911                6.720911  \n",
              "1758       2.305086          2.305086  6.579684                6.579684  \n",
              "1759       2.241131          2.241131  5.788635                5.788635  \n",
              "\n",
              "[1760 rows x 10 columns]"
            ]
          },
          "metadata": {},
          "execution_count": 31
        }
      ]
    },
    {
      "cell_type": "code",
      "source": [
        "chain[\"sample\"][\"chi2__gaussian_mixture\"]"
      ],
      "metadata": {
        "id": "3sknf31RtOFD",
        "outputId": "e20fa1cb-2741-4041-9630-13fd5fc553ed",
        "colab": {
          "base_uri": "https://localhost:8080/",
          "height": 458
        }
      },
      "execution_count": 32,
      "outputs": [
        {
          "output_type": "execute_result",
          "data": {
            "text/plain": [
              "0      -0.035805\n",
              "1       0.141650\n",
              "2       0.071876\n",
              "3       0.043897\n",
              "4       1.369144\n",
              "          ...   \n",
              "1755    5.812301\n",
              "1756    6.013155\n",
              "1757    6.720911\n",
              "1758    6.579684\n",
              "1759    5.788635\n",
              "Name: chi2__gaussian_mixture, Length: 1760, dtype: float64"
            ],
            "text/html": [
              "<div>\n",
              "<style scoped>\n",
              "    .dataframe tbody tr th:only-of-type {\n",
              "        vertical-align: middle;\n",
              "    }\n",
              "\n",
              "    .dataframe tbody tr th {\n",
              "        vertical-align: top;\n",
              "    }\n",
              "\n",
              "    .dataframe thead th {\n",
              "        text-align: right;\n",
              "    }\n",
              "</style>\n",
              "<table border=\"1\" class=\"dataframe\">\n",
              "  <thead>\n",
              "    <tr style=\"text-align: right;\">\n",
              "      <th></th>\n",
              "      <th>chi2__gaussian_mixture</th>\n",
              "    </tr>\n",
              "  </thead>\n",
              "  <tbody>\n",
              "    <tr>\n",
              "      <th>0</th>\n",
              "      <td>-0.035805</td>\n",
              "    </tr>\n",
              "    <tr>\n",
              "      <th>1</th>\n",
              "      <td>0.141650</td>\n",
              "    </tr>\n",
              "    <tr>\n",
              "      <th>2</th>\n",
              "      <td>0.071876</td>\n",
              "    </tr>\n",
              "    <tr>\n",
              "      <th>3</th>\n",
              "      <td>0.043897</td>\n",
              "    </tr>\n",
              "    <tr>\n",
              "      <th>4</th>\n",
              "      <td>1.369144</td>\n",
              "    </tr>\n",
              "    <tr>\n",
              "      <th>...</th>\n",
              "      <td>...</td>\n",
              "    </tr>\n",
              "    <tr>\n",
              "      <th>1755</th>\n",
              "      <td>5.812301</td>\n",
              "    </tr>\n",
              "    <tr>\n",
              "      <th>1756</th>\n",
              "      <td>6.013155</td>\n",
              "    </tr>\n",
              "    <tr>\n",
              "      <th>1757</th>\n",
              "      <td>6.720911</td>\n",
              "    </tr>\n",
              "    <tr>\n",
              "      <th>1758</th>\n",
              "      <td>6.579684</td>\n",
              "    </tr>\n",
              "    <tr>\n",
              "      <th>1759</th>\n",
              "      <td>5.788635</td>\n",
              "    </tr>\n",
              "  </tbody>\n",
              "</table>\n",
              "<p>1760 rows × 1 columns</p>\n",
              "</div><br><label><b>dtype:</b> float64</label>"
            ]
          },
          "metadata": {},
          "execution_count": 32
        }
      ]
    },
    {
      "cell_type": "code",
      "source": [],
      "metadata": {
        "id": "O--o6GoUwQVG"
      },
      "execution_count": null,
      "outputs": []
    },
    {
      "cell_type": "code",
      "execution_count": 71,
      "metadata": {
        "colab": {
          "base_uri": "https://localhost:8080/",
          "height": 387
        },
        "id": "IWw3I2yrIS7N",
        "outputId": "2dcd5605-4fae-4e5e-81cf-d0333d7d6ef0"
      },
      "outputs": [
        {
          "output_type": "stream",
          "name": "stderr",
          "text": [
            "WARNING:root:outlier fraction 0.009722222222222222 \n"
          ]
        },
        {
          "output_type": "stream",
          "name": "stdout",
          "text": [
            "[root] *WARNING* outlier fraction 0.009722222222222222 \n",
            "Mean:\n",
            "[ 1.92218216e-01 -1.16492395e-03 -2.46081631e-02  6.51631052e-03\n",
            "  2.24963679e+00  2.24963679e+00  1.25293493e+00  1.25293493e+00]\n",
            "Covariance matrix:\n",
            "[[0.08488121 0.04176638]\n",
            " [0.04176638 0.15586921]]\n"
          ]
        },
        {
          "output_type": "display_data",
          "data": {
            "text/plain": [
              "<Figure size 300x225 with 0 Axes>"
            ]
          },
          "metadata": {}
        },
        {
          "output_type": "display_data",
          "data": {
            "text/plain": [
              "<Figure size 300x225 with 3 Axes>"
            ],
            "image/png": "[encoded data removed]"
          },
          "metadata": {
            "image/png": {
              "width": 287,
              "height": 211
            }
          }
        }
      ],
      "source": [
        "# Import corresponding modules from GetDist\n",
        "from getdist.mcsamples import loadMCSamples, MCSamplesFromCobaya\n",
        "import getdist.plots as gdplt\n",
        "\n",
        "# Load the chains and the updated config file from the previous run\n",
        "gd_sample = MCSamplesFromCobaya(updated_info, sampler.products()[\"sample\"])\n",
        "\n",
        "# Analyze the chains (print the mean and covmat according to GetDist documentation)\n",
        "mean = gd_sample.getMeans()\n",
        "covmat = gd_sample.getCovMat()\n",
        "print(\"Mean:\")\n",
        "print(mean)\n",
        "print(\"Covariance matrix:\")\n",
        "print(covmat.matrix)\n",
        "\n",
        "# PLOT THE CHAINS (have a look at the DEMO above from GetDist)\n",
        "g = gdplt.get_single_plotter(width_inch=3)\n",
        "g.triangle_plot([gd_sample], [\"a\",\"b\"])\n",
        "# The goal is to produce a triangle plot"
      ]
    },
    {
      "cell_type": "markdown",
      "metadata": {
        "id": "HYsPCl5NIS7O"
      },
      "source": [
        "### Now, let's change the likelihood above by a new gaussian ring likelihood defined on cartesian coordinates\n",
        "\n",
        "Cobaya allows to pass self-defined likelihoods as likelihoods of the `likelihood` block."
      ]
    },
    {
      "cell_type": "code",
      "execution_count": 39,
      "metadata": {
        "id": "Cn8alXe0IS7P"
      },
      "outputs": [],
      "source": [
        "# We define the new likelihood as a python function\n",
        "# ATTENTION: Cobaya always needs to return the loglike!\n",
        "\n",
        "def gauss_ring_logp(x, y, mean_radius=1, std=0.02):\n",
        "    \"\"\"\n",
        "    Defines a gaussian ring likelihood on cartesian coordinater,\n",
        "    around some ``mean_radius`` and with some ``std``.\n",
        "    \"\"\"\n",
        "    return stats.norm.logpdf(np.sqrt(x**2 + y**2), loc=mean_radius, scale=std)"
      ]
    },
    {
      "cell_type": "code",
      "source": [
        "gauss_ring_logp(gd_sample[\"a\"], gd_sample[\"b\"])"
      ],
      "metadata": {
        "id": "_enLXVTo0L7c",
        "outputId": "4de04c3c-49ba-4b94-ca5e-013be440b320",
        "colab": {
          "base_uri": "https://localhost:8080/"
        }
      },
      "execution_count": 44,
      "outputs": [
        {
          "output_type": "execute_result",
          "data": {
            "text/plain": [
              "array([-1130.05899526,  -582.14006312,  -545.76532891, ...,\n",
              "         -11.12172781,  -162.23540846,  -255.29289662])"
            ]
          },
          "metadata": {},
          "execution_count": 44
        }
      ]
    },
    {
      "cell_type": "code",
      "execution_count": 45,
      "metadata": {
        "id": "fs-0dYCbIS7S"
      },
      "outputs": [],
      "source": [
        "# Let's update the new likelihood in the info dictionary above\n",
        "\n",
        "info = {\"likelihood\": {\"ring\": gauss_ring_logp(gd_sample[\"a\"], gd_sample[\"b\"])}}"
      ]
    },
    {
      "cell_type": "code",
      "execution_count": 46,
      "metadata": {
        "id": "BQ7YMrS-IS7U"
      },
      "outputs": [],
      "source": [
        "# The new likelihood requests two new parameters: x and y\n",
        "# Therefore, we need to define them in the params block\n",
        "# of the info dictionary above adding a new prior\n",
        "\n",
        "# Use uniform distributions as priors for x and y between 0 and 2\n",
        "\n",
        "info[\"params\"] = {\"x\":{\n",
        "                    \"prior\":{\"min\":-0.5,\"max\":3}},\n",
        "                  \"y\":{\n",
        "                    \"prior\":{\"min\":-0.5,\"max\":3}}\n",
        "                  }"
      ]
    },
    {
      "cell_type": "code",
      "execution_count": 47,
      "metadata": {
        "id": "X3XF6fT4IS7V"
      },
      "outputs": [],
      "source": [
        "# We add the polar coordinates theta and radius as derived parameters within the params block\n",
        "\n",
        "def get_r(x, y):\n",
        "    return np.sqrt(x ** 2 + y ** 2)\n",
        "\n",
        "\n",
        "def get_theta(x, y):\n",
        "    return np.arctan(y / x)\n",
        "\n",
        "# Update the params part of the info dictionary with these derived params"
      ]
    },
    {
      "cell_type": "code",
      "execution_count": 48,
      "metadata": {
        "id": "7ELMD4lAIS7W"
      },
      "outputs": [],
      "source": [
        "# We add some new conditions in the sampler block, to give extra tries in case the mcmc gets stuck\n",
        "\n",
        "info[\"sampler\"] = {\"mcmc\": {\"Rminus1_stop\": 0.001, \"max_tries\": 1000}}\n",
        "\n",
        "# Re-run cobaya as we did above!"
      ]
    },
    {
      "cell_type": "markdown",
      "metadata": {
        "id": "PAtvLCHhIS7W"
      },
      "source": [
        "### Replot the chains using GetDist\n",
        "\n",
        "We aim to create two triangle plots: one for the cartesian coordinates x and y, and another for the polar coordinates theta and radius"
      ]
    },
    {
      "cell_type": "code",
      "execution_count": null,
      "metadata": {
        "id": "nsMMvDEKIS7W"
      },
      "outputs": [],
      "source": [
        "# Load the chains and the updated config file from the previous run\n",
        "# Make two triangle plots: one for the cartesian coordinates x and y,\n",
        "# and a different triangle plot for the radius and angle theta"
      ]
    },
    {
      "cell_type": "code",
      "source": [
        "true_H0 = 73.0  # km/s/Mpc\n",
        "true_M  = -19.3 # absolute magnitude\n",
        "sn = make_synthetic_sample(N=200, H0=true_H0, M=true_M, rng=None)"
      ],
      "metadata": {
        "id": "LoG2_bXnIxDB",
        "outputId": "20bf1235-0e8d-4e7a-a949-549d351e0b63",
        "colab": {
          "base_uri": "https://localhost:8080/",
          "height": 179
        }
      },
      "execution_count": 72,
      "outputs": [
        {
          "output_type": "error",
          "ename": "NameError",
          "evalue": "name 'make_synthetic_sample' is not defined",
          "traceback": [
            "\u001b[0;31m---------------------------------------------------------------------------\u001b[0m",
            "\u001b[0;31mNameError\u001b[0m                                 Traceback (most recent call last)",
            "\u001b[0;32m/tmp/ipython-input-2872019016.py\u001b[0m in \u001b[0;36m<cell line: 0>\u001b[0;34m()\u001b[0m\n\u001b[1;32m      1\u001b[0m \u001b[0mtrue_H0\u001b[0m \u001b[0;34m=\u001b[0m \u001b[0;36m73.0\u001b[0m  \u001b[0;31m# km/s/Mpc\u001b[0m\u001b[0;34m\u001b[0m\u001b[0;34m\u001b[0m\u001b[0m\n\u001b[1;32m      2\u001b[0m \u001b[0mtrue_M\u001b[0m  \u001b[0;34m=\u001b[0m \u001b[0;34m-\u001b[0m\u001b[0;36m19.3\u001b[0m \u001b[0;31m# absolute magnitude\u001b[0m\u001b[0;34m\u001b[0m\u001b[0;34m\u001b[0m\u001b[0m\n\u001b[0;32m----> 3\u001b[0;31m \u001b[0msn\u001b[0m \u001b[0;34m=\u001b[0m \u001b[0mmake_synthetic_sample\u001b[0m\u001b[0;34m(\u001b[0m\u001b[0mN\u001b[0m\u001b[0;34m=\u001b[0m\u001b[0;36m200\u001b[0m\u001b[0;34m,\u001b[0m \u001b[0mH0\u001b[0m\u001b[0;34m=\u001b[0m\u001b[0mtrue_H0\u001b[0m\u001b[0;34m,\u001b[0m \u001b[0mM\u001b[0m\u001b[0;34m=\u001b[0m\u001b[0mtrue_M\u001b[0m\u001b[0;34m,\u001b[0m \u001b[0mrng\u001b[0m\u001b[0;34m=\u001b[0m\u001b[0;32mNone\u001b[0m\u001b[0;34m)\u001b[0m\u001b[0;34m\u001b[0m\u001b[0;34m\u001b[0m\u001b[0m\n\u001b[0m",
            "\u001b[0;31mNameError\u001b[0m: name 'make_synthetic_sample' is not defined"
          ]
        }
      ]
    },
    {
      "cell_type": "markdown",
      "metadata": {
        "id": "ABgURYmDIS7X"
      },
      "source": [
        "# Exercise 2:\n",
        "\n",
        "### Make an evaluation of the full posterior of the parameters of $\\Lambda$CDM using BAO + SN + PLANCK18\n",
        "\n",
        "In this exercise, we aim to make an evaluation of the posterior distribution of the Standard Cosmological Model parameters using BAO + SN + PLANCK18 data.\n",
        "\n",
        "For that, you need to create a new config file speciying the corresponding likelihoods, the parameters of the $\\Lambda$CDM model and specify the sampler to `evaluate`.\n",
        "\n",
        "What about the `theory` module? Do you need to specify it? What would you choose?\n",
        "\n",
        "If you feel like working, you can change the sampler `evaluate` to the sampler `mcmc` to explore the full posterior distribution. Attention: it will take around 3 or 4 days. Let it run for one night so that tomorrow you can have a look at the chains.\n",
        "\n",
        "- Check this link to see how you can define the new corresponding config file: https://cobaya.readthedocs.io/en/latest/cosmo_basic_runs.html\n",
        "- All the corresponding likelihood names are within the section “COSMOLOGICAL LIKELIHOODS” at https://cobaya.readthedocs.io/en/latest/"
      ]
    },
    {
      "cell_type": "code",
      "execution_count": 74,
      "metadata": {
        "id": "ZPB8OvutIS7Y"
      },
      "outputs": [],
      "source": [
        "from dataclasses import dataclass\n",
        "def loglike_cobaya(H0, M):\n",
        "    return -0.5 * chi2(H0, M, sn)\n",
        "def mu_from_z(z, H0):\n",
        "    \"\"\"Low-z luminosity distance modulus: mu = 5 log10(c z / H0 [Mpc]) + 25.\n",
        "    Here c is in km/s, H0 in km/s/Mpc, so cz/H0 is in Mpc.\n",
        "    \"\"\"\n",
        "    dL_Mpc = (c_km_s * z) / H0\n",
        "    return 5.0 * np.log10(dL_Mpc) + 25.0\n",
        "\n",
        "def mag_model(z, H0, M):\n",
        "    return M + mu_from_z(z, H0)\n",
        "\n",
        "def sigma_mu_pec(z, v_pec=300.0, H0=70.0):\n",
        "    \"\"\"Approximate magnitude uncertainty from peculiar velocities.\n",
        "    sigma_mu ~ (5/ln(10)) * (sigma_dL/dL).\n",
        "    At low z, dL ~ cz/H0, so fractional distance error from peculiar velocity sigma_v is ~ sigma_v/(cz).\n",
        "    \"\"\"\n",
        "    frac = v_pec/(c_km_s * z)\n",
        "    return (5/np.log(10)) * frac\n",
        "\n",
        "@dataclass\n",
        "class SNSample:\n",
        "    z: np.ndarray\n",
        "    m: np.ndarray\n",
        "    sigma_m: np.ndarray\n",
        "    name: str = \"synthetic\"\n",
        "\n",
        "def make_synthetic_sample(N=100, H0=73.0, M=-19.3, zmin=0.01, zmax=0.08,\n",
        "                          sigma_meas=0.1, sigma_int=0.1, v_pec=300.0, rng=None) -> SNSample:\n",
        "    rng = np.random.default_rng(rng)\n",
        "    z = np.sort(rng.uniform(zmin, zmax, size=N))\n",
        "    mu = mu_from_z(z, H0)\n",
        "    m_true = M + mu\n",
        "    # per-SN error budget: measurement + peculiar velocity + intrinsic scatter\n",
        "    sig_pec = sigma_mu_pec(z, v_pec=v_pec, H0=H0)\n",
        "    sigma_tot = np.sqrt(sigma_meas**2 + sig_pec**2 + sigma_int**2)\n",
        "    m_obs = rng.normal(m_true, sigma_tot)\n",
        "    return SNSample(z=z, m=m_obs, sigma_m=sigma_tot, name=\"synthetic\")\n",
        "\n",
        "def chi2(H0, M, sn: SNSample):\n",
        "    model = mag_model(sn.z, H0, M)\n",
        "    return np.sum(((sn.m - model)/sn.sigma_m)**2)\n",
        "\n",
        "def best_fit_H0_given_M(sn: SNSample, M, H0_grid=np.linspace(50, 90, 801)):\n",
        "    chi2_vals = np.array([chi2(H0, M, sn) for H0 in H0_grid])\n",
        "    j = np.argmin(chi2_vals)\n",
        "    return H0_grid[j], chi2_vals, H0_grid\n",
        "def conf_interval_from_delta_chi2(H0_grid, chi2_vals, dof=1, delta=1.0):\n",
        "    # For 1 parameter, Delta chi^2 = 1 gives ~68% CI.\n",
        "    j = np.argmin(chi2_vals)\n",
        "    chi2_min = chi2_vals[j]\n",
        "    mask = chi2_vals <= chi2_min + delta\n",
        "    H0_in = H0_grid[mask]\n",
        "    return H0_grid[j], H0_in.min(), H0_in.max()\n",
        "\n",
        "# You need to start by defining a new config python dictionary\n",
        "# (or if you feel brave, you can write a script like a yaml format\n",
        "# and dump it as a python dictionary)\n",
        "\n",
        "# LCDM has 6 parameters, so you need to define at least 6 parameters\n",
        "# to be sampled from within the `params` block\n",
        "\n",
        "info_dict = {\n",
        "    \"params\":{\n",
        "        \"H0\":{\"prior\":{\"min\":50,\"max\":90},\"latex\":r'H_0'},\n",
        "        'M':{'prior':{'dist':'norm',\"loc\":-19.3,\"scale\":0.05}, 'latex':r'M'},\n",
        "        },\n",
        "    'likelihood': {\n",
        "        'my_sn_likelyhood': {\n",
        "            'external':loglike_cobaya,  }\n",
        "        },\n",
        "    'sampler':{'mcmc':{'max_tries':100000, 'Rminus1_stop':0.001}}\n",
        "}"
      ]
    },
    {
      "cell_type": "code",
      "execution_count": 76,
      "metadata": {
        "colab": {
          "base_uri": "https://localhost:8080/",
          "height": 397
        },
        "id": "FwTEQzozIS7Z",
        "outputId": "1a84262b-a37d-4252-bea9-735e3bcd7ae5"
      },
      "outputs": [
        {
          "output_type": "stream",
          "name": "stderr",
          "text": [
            "INFO:my_sn_likelyhood:Initialized external likelihood.\n"
          ]
        },
        {
          "output_type": "stream",
          "name": "stdout",
          "text": [
            "[my_sn_likelyhood] Initialized external likelihood.\n"
          ]
        },
        {
          "output_type": "stream",
          "name": "stderr",
          "text": [
            "INFO:mcmc:Getting initial point... (this may take a few seconds)\n"
          ]
        },
        {
          "output_type": "stream",
          "name": "stdout",
          "text": [
            "[mcmc] Getting initial point... (this may take a few seconds)\n"
          ]
        },
        {
          "output_type": "stream",
          "name": "stderr",
          "text": [
            "INFO:prior:Reference values or pdfs for some parameters were not provided. Sampling from the prior instead for those parameters.\n"
          ]
        },
        {
          "output_type": "stream",
          "name": "stdout",
          "text": [
            "[prior] Reference values or pdfs for some parameters were not provided. Sampling from the prior instead for those parameters.\n"
          ]
        },
        {
          "output_type": "error",
          "ename": "NameError",
          "evalue": "name 'sn' is not defined",
          "traceback": [
            "\u001b[0;31m---------------------------------------------------------------------------\u001b[0m",
            "\u001b[0;31mNameError\u001b[0m                                 Traceback (most recent call last)",
            "\u001b[0;32m/tmp/ipython-input-1529300167.py\u001b[0m in \u001b[0;36m<cell line: 0>\u001b[0;34m()\u001b[0m\n\u001b[0;32m----> 1\u001b[0;31m \u001b[0mupdated_info\u001b[0m\u001b[0;34m,\u001b[0m \u001b[0msampler\u001b[0m \u001b[0;34m=\u001b[0m \u001b[0mrun\u001b[0m\u001b[0;34m(\u001b[0m\u001b[0minfo_dict\u001b[0m\u001b[0;34m)\u001b[0m\u001b[0;34m\u001b[0m\u001b[0;34m\u001b[0m\u001b[0m\n\u001b[0m",
            "\u001b[0;32m/usr/local/lib/python3.12/dist-packages/cobaya/run.py\u001b[0m in \u001b[0;36mrun\u001b[0;34m(info_or_yaml_or_file, packages_path, output, debug, stop_at_error, resume, force, minimize, no_mpi, test, override, allow_changes)\u001b[0m\n\u001b[1;32m    130\u001b[0m                 \u001b[0mupdated_info\u001b[0m \u001b[0;34m=\u001b[0m \u001b[0mrecursive_update\u001b[0m\u001b[0;34m(\u001b[0m\u001b[0mupdated_info\u001b[0m\u001b[0;34m,\u001b[0m \u001b[0mmodel\u001b[0m\u001b[0;34m.\u001b[0m\u001b[0minfo\u001b[0m\u001b[0;34m(\u001b[0m\u001b[0;34m)\u001b[0m\u001b[0;34m)\u001b[0m\u001b[0;34m\u001b[0m\u001b[0;34m\u001b[0m\u001b[0m\n\u001b[1;32m    131\u001b[0m                 \u001b[0mout\u001b[0m\u001b[0;34m.\u001b[0m\u001b[0mcheck_and_dump_info\u001b[0m\u001b[0;34m(\u001b[0m\u001b[0;32mNone\u001b[0m\u001b[0;34m,\u001b[0m \u001b[0mupdated_info\u001b[0m\u001b[0;34m,\u001b[0m \u001b[0mcheck_compatible\u001b[0m\u001b[0;34m=\u001b[0m\u001b[0;32mFalse\u001b[0m\u001b[0;34m)\u001b[0m\u001b[0;34m\u001b[0m\u001b[0;34m\u001b[0m\u001b[0m\n\u001b[0;32m--> 132\u001b[0;31m                 sampler = sampler_class(updated_info[\"sampler\"][sampler_name],\n\u001b[0m\u001b[1;32m    133\u001b[0m                                         \u001b[0mmodel\u001b[0m\u001b[0;34m,\u001b[0m \u001b[0mout\u001b[0m\u001b[0;34m,\u001b[0m \u001b[0mname\u001b[0m\u001b[0;34m=\u001b[0m\u001b[0msampler_name\u001b[0m\u001b[0;34m,\u001b[0m\u001b[0;34m\u001b[0m\u001b[0;34m\u001b[0m\u001b[0m\n\u001b[1;32m    134\u001b[0m                                         packages_path=info.get(\"packages_path\"))\n",
            "\u001b[0;32m/usr/local/lib/python3.12/dist-packages/cobaya/sampler.py\u001b[0m in \u001b[0;36m__init__\u001b[0;34m(self, info_sampler, model, output, packages_path, name)\u001b[0m\n\u001b[1;32m    277\u001b[0m                 \u001b[0;32mpass\u001b[0m\u001b[0;34m\u001b[0m\u001b[0;34m\u001b[0m\u001b[0m\n\u001b[1;32m    278\u001b[0m         \u001b[0mself\u001b[0m\u001b[0;34m.\u001b[0m\u001b[0m_set_rng\u001b[0m\u001b[0;34m(\u001b[0m\u001b[0;34m)\u001b[0m\u001b[0;34m\u001b[0m\u001b[0;34m\u001b[0m\u001b[0m\n\u001b[0;32m--> 279\u001b[0;31m         \u001b[0mself\u001b[0m\u001b[0;34m.\u001b[0m\u001b[0minitialize\u001b[0m\u001b[0;34m(\u001b[0m\u001b[0;34m)\u001b[0m\u001b[0;34m\u001b[0m\u001b[0;34m\u001b[0m\u001b[0m\n\u001b[0m\u001b[1;32m    280\u001b[0m         \u001b[0mmodel\u001b[0m\u001b[0;34m.\u001b[0m\u001b[0mset_cache_size\u001b[0m\u001b[0;34m(\u001b[0m\u001b[0mself\u001b[0m\u001b[0;34m.\u001b[0m\u001b[0m_get_requested_cache_size\u001b[0m\u001b[0;34m(\u001b[0m\u001b[0;34m)\u001b[0m\u001b[0;34m)\u001b[0m\u001b[0;34m\u001b[0m\u001b[0;34m\u001b[0m\u001b[0m\n\u001b[1;32m    281\u001b[0m         \u001b[0;31m# Add to the updated info some values which are\u001b[0m\u001b[0;34m\u001b[0m\u001b[0;34m\u001b[0m\u001b[0m\n",
            "\u001b[0;32m/usr/local/lib/python3.12/dist-packages/cobaya/samplers/mcmc/mcmc.py\u001b[0m in \u001b[0;36minitialize\u001b[0;34m(self)\u001b[0m\n\u001b[1;32m    166\u001b[0m             \u001b[0mself\u001b[0m\u001b[0;34m.\u001b[0m\u001b[0mmax_tries\u001b[0m\u001b[0;34m.\u001b[0m\u001b[0mset_scale\u001b[0m\u001b[0;34m(\u001b[0m\u001b[0mself\u001b[0m\u001b[0;34m.\u001b[0m\u001b[0mmodel\u001b[0m\u001b[0;34m.\u001b[0m\u001b[0mprior\u001b[0m\u001b[0;34m.\u001b[0m\u001b[0md\u001b[0m\u001b[0;34m(\u001b[0m\u001b[0;34m)\u001b[0m\u001b[0;34m)\u001b[0m\u001b[0;34m\u001b[0m\u001b[0;34m\u001b[0m\u001b[0m\n\u001b[1;32m    167\u001b[0m             \u001b[0mself\u001b[0m\u001b[0;34m.\u001b[0m\u001b[0mlog\u001b[0m\u001b[0;34m.\u001b[0m\u001b[0minfo\u001b[0m\u001b[0;34m(\u001b[0m\u001b[0;34m\"Getting initial point... (this may take a few seconds)\"\u001b[0m\u001b[0;34m)\u001b[0m\u001b[0;34m\u001b[0m\u001b[0;34m\u001b[0m\u001b[0m\n\u001b[0;32m--> 168\u001b[0;31m             initial_point, results = self.model.get_valid_point(\n\u001b[0m\u001b[1;32m    169\u001b[0m                 \u001b[0mmax_tries\u001b[0m\u001b[0;34m=\u001b[0m\u001b[0mint\u001b[0m\u001b[0;34m(\u001b[0m\u001b[0mmin\u001b[0m\u001b[0;34m(\u001b[0m\u001b[0mself\u001b[0m\u001b[0;34m.\u001b[0m\u001b[0mmax_tries\u001b[0m\u001b[0;34m.\u001b[0m\u001b[0mvalue\u001b[0m\u001b[0;34m,\u001b[0m \u001b[0;36m1e7\u001b[0m\u001b[0;34m)\u001b[0m\u001b[0;34m)\u001b[0m\u001b[0;34m,\u001b[0m\u001b[0;34m\u001b[0m\u001b[0;34m\u001b[0m\u001b[0m\n\u001b[1;32m    170\u001b[0m                 \u001b[0mrandom_state\u001b[0m\u001b[0;34m=\u001b[0m\u001b[0mself\u001b[0m\u001b[0;34m.\u001b[0m\u001b[0m_rng\u001b[0m\u001b[0;34m\u001b[0m\u001b[0;34m\u001b[0m\u001b[0m\n",
            "\u001b[0;32m/usr/local/lib/python3.12/dist-packages/cobaya/model.py\u001b[0m in \u001b[0;36mget_valid_point\u001b[0;34m(self, max_tries, ignore_fixed_ref, logposterior_as_dict, random_state)\u001b[0m\n\u001b[1;32m    614\u001b[0m                                                  \u001b[0mwarn_if_no_ref\u001b[0m\u001b[0;34m=\u001b[0m\u001b[0;32mnot\u001b[0m \u001b[0mloop\u001b[0m\u001b[0;34m,\u001b[0m\u001b[0;34m\u001b[0m\u001b[0;34m\u001b[0m\u001b[0m\n\u001b[1;32m    615\u001b[0m                                                  random_state=random_state)\n\u001b[0;32m--> 616\u001b[0;31m             \u001b[0mresults\u001b[0m \u001b[0;34m=\u001b[0m \u001b[0mself\u001b[0m\u001b[0;34m.\u001b[0m\u001b[0mlogposterior\u001b[0m\u001b[0;34m(\u001b[0m\u001b[0minitial_point\u001b[0m\u001b[0;34m)\u001b[0m\u001b[0;34m\u001b[0m\u001b[0;34m\u001b[0m\u001b[0m\n\u001b[0m\u001b[1;32m    617\u001b[0m             \u001b[0;32mif\u001b[0m \u001b[0mresults\u001b[0m\u001b[0;34m.\u001b[0m\u001b[0mlogpost\u001b[0m \u001b[0;34m!=\u001b[0m \u001b[0;34m-\u001b[0m\u001b[0mnp\u001b[0m\u001b[0;34m.\u001b[0m\u001b[0minf\u001b[0m\u001b[0;34m:\u001b[0m\u001b[0;34m\u001b[0m\u001b[0;34m\u001b[0m\u001b[0m\n\u001b[1;32m    618\u001b[0m                 \u001b[0;32mbreak\u001b[0m\u001b[0;34m\u001b[0m\u001b[0;34m\u001b[0m\u001b[0m\n",
            "\u001b[0;32m/usr/local/lib/python3.12/dist-packages/cobaya/model.py\u001b[0m in \u001b[0;36mlogposterior\u001b[0;34m(self, params_values, as_dict, make_finite, return_derived, cached, _no_check)\u001b[0m\n\u001b[1;32m    556\u001b[0m         \u001b[0;32mif\u001b[0m \u001b[0;34m-\u001b[0m\u001b[0mnp\u001b[0m\u001b[0;34m.\u001b[0m\u001b[0minf\u001b[0m \u001b[0;32mnot\u001b[0m \u001b[0;32min\u001b[0m \u001b[0mlogpriors\u001b[0m\u001b[0;34m:\u001b[0m\u001b[0;34m\u001b[0m\u001b[0;34m\u001b[0m\u001b[0m\n\u001b[1;32m    557\u001b[0m             \u001b[0;31m# noinspection PyUnboundLocalVariable\u001b[0m\u001b[0;34m\u001b[0m\u001b[0;34m\u001b[0m\u001b[0m\n\u001b[0;32m--> 558\u001b[0;31m             like = self._loglikes_input_params(input_params,\n\u001b[0m\u001b[1;32m    559\u001b[0m                                                \u001b[0mreturn_derived\u001b[0m\u001b[0;34m=\u001b[0m\u001b[0mreturn_derived\u001b[0m\u001b[0;34m,\u001b[0m\u001b[0;34m\u001b[0m\u001b[0;34m\u001b[0m\u001b[0m\n\u001b[1;32m    560\u001b[0m                                                cached=cached, make_finite=make_finite)\n",
            "\u001b[0;32m/usr/local/lib/python3.12/dist-packages/cobaya/model.py\u001b[0m in \u001b[0;36m_loglikes_input_params\u001b[0;34m(self, input_params, return_derived, return_output_params, as_dict, make_finite, cached)\u001b[0m\n\u001b[1;32m    376\u001b[0m             \u001b[0mdepend_list\u001b[0m \u001b[0;34m=\u001b[0m \u001b[0;34m[\u001b[0m\u001b[0minput_params\u001b[0m\u001b[0;34m[\u001b[0m\u001b[0mp\u001b[0m\u001b[0;34m]\u001b[0m \u001b[0;32mfor\u001b[0m \u001b[0mp\u001b[0m \u001b[0;32min\u001b[0m \u001b[0mparam_dep\u001b[0m\u001b[0;34m]\u001b[0m\u001b[0;34m\u001b[0m\u001b[0;34m\u001b[0m\u001b[0m\n\u001b[1;32m    377\u001b[0m             \u001b[0mparams\u001b[0m \u001b[0;34m=\u001b[0m \u001b[0;34m{\u001b[0m\u001b[0mp\u001b[0m\u001b[0;34m:\u001b[0m \u001b[0minput_params\u001b[0m\u001b[0;34m[\u001b[0m\u001b[0mp\u001b[0m\u001b[0;34m]\u001b[0m \u001b[0;32mfor\u001b[0m \u001b[0mp\u001b[0m \u001b[0;32min\u001b[0m \u001b[0mcomponent\u001b[0m\u001b[0;34m.\u001b[0m\u001b[0minput_params\u001b[0m\u001b[0;34m}\u001b[0m\u001b[0;34m\u001b[0m\u001b[0;34m\u001b[0m\u001b[0m\n\u001b[0;32m--> 378\u001b[0;31m             compute_success = component.check_cache_and_compute(\n\u001b[0m\u001b[1;32m    379\u001b[0m                 \u001b[0mparams\u001b[0m\u001b[0;34m,\u001b[0m \u001b[0mwant_derived\u001b[0m\u001b[0;34m=\u001b[0m\u001b[0mneed_derived\u001b[0m\u001b[0;34m,\u001b[0m\u001b[0;34m\u001b[0m\u001b[0;34m\u001b[0m\u001b[0m\n\u001b[1;32m    380\u001b[0m                 dependency_params=depend_list, cached=cached)\n",
            "\u001b[0;32m/usr/local/lib/python3.12/dist-packages/cobaya/theory.py\u001b[0m in \u001b[0;36mcheck_cache_and_compute\u001b[0;34m(self, params_values_dict, dependency_params, want_derived, cached)\u001b[0m\n\u001b[1;32m    251\u001b[0m                 \u001b[0mself\u001b[0m\u001b[0;34m.\u001b[0m\u001b[0mtimer\u001b[0m\u001b[0;34m.\u001b[0m\u001b[0mstart\u001b[0m\u001b[0;34m(\u001b[0m\u001b[0;34m)\u001b[0m\u001b[0;34m\u001b[0m\u001b[0;34m\u001b[0m\u001b[0m\n\u001b[1;32m    252\u001b[0m             \u001b[0;32mtry\u001b[0m\u001b[0;34m:\u001b[0m\u001b[0;34m\u001b[0m\u001b[0;34m\u001b[0m\u001b[0m\n\u001b[0;32m--> 253\u001b[0;31m                 \u001b[0;32mif\u001b[0m \u001b[0mself\u001b[0m\u001b[0;34m.\u001b[0m\u001b[0mcalculate\u001b[0m\u001b[0;34m(\u001b[0m\u001b[0mstate\u001b[0m\u001b[0;34m,\u001b[0m \u001b[0mwant_derived\u001b[0m\u001b[0;34m,\u001b[0m \u001b[0;34m**\u001b[0m\u001b[0mparams_values_dict\u001b[0m\u001b[0;34m)\u001b[0m \u001b[0;32mis\u001b[0m \u001b[0;32mFalse\u001b[0m\u001b[0;34m:\u001b[0m\u001b[0;34m\u001b[0m\u001b[0;34m\u001b[0m\u001b[0m\n\u001b[0m\u001b[1;32m    254\u001b[0m                     \u001b[0;32mreturn\u001b[0m \u001b[0;32mFalse\u001b[0m\u001b[0;34m\u001b[0m\u001b[0;34m\u001b[0m\u001b[0m\n\u001b[1;32m    255\u001b[0m             \u001b[0;32mexcept\u001b[0m \u001b[0malways_stop_exceptions\u001b[0m\u001b[0;34m:\u001b[0m\u001b[0;34m\u001b[0m\u001b[0;34m\u001b[0m\u001b[0m\n",
            "\u001b[0;32m/usr/local/lib/python3.12/dist-packages/cobaya/likelihood.py\u001b[0m in \u001b[0;36mcalculate\u001b[0;34m(self, state, want_derived, **params_values_dict)\u001b[0m\n\u001b[1;32m    126\u001b[0m         \u001b[0mderived\u001b[0m\u001b[0;34m:\u001b[0m \u001b[0mOptional\u001b[0m\u001b[0;34m[\u001b[0m\u001b[0mParamValuesDict\u001b[0m\u001b[0;34m]\u001b[0m \u001b[0;34m=\u001b[0m \u001b[0;34m{\u001b[0m\u001b[0;34m}\u001b[0m \u001b[0;32mif\u001b[0m \u001b[0mwant_derived\u001b[0m \u001b[0;32melse\u001b[0m \u001b[0;32mNone\u001b[0m\u001b[0;34m\u001b[0m\u001b[0;34m\u001b[0m\u001b[0m\n\u001b[1;32m    127\u001b[0m         \u001b[0mstate\u001b[0m\u001b[0;34m[\u001b[0m\u001b[0;34m\"logp\"\u001b[0m\u001b[0;34m]\u001b[0m \u001b[0;34m=\u001b[0m \u001b[0;34m-\u001b[0m\u001b[0mnp\u001b[0m\u001b[0;34m.\u001b[0m\u001b[0minf\u001b[0m  \u001b[0;31m# in case of exception\u001b[0m\u001b[0;34m\u001b[0m\u001b[0;34m\u001b[0m\u001b[0m\n\u001b[0;32m--> 128\u001b[0;31m         \u001b[0mstate\u001b[0m\u001b[0;34m[\u001b[0m\u001b[0;34m\"logp\"\u001b[0m\u001b[0;34m]\u001b[0m \u001b[0;34m=\u001b[0m \u001b[0mself\u001b[0m\u001b[0;34m.\u001b[0m\u001b[0mlogp\u001b[0m\u001b[0;34m(\u001b[0m\u001b[0m_derived\u001b[0m\u001b[0;34m=\u001b[0m\u001b[0mderived\u001b[0m\u001b[0;34m,\u001b[0m \u001b[0;34m**\u001b[0m\u001b[0mparams_values_dict\u001b[0m\u001b[0;34m)\u001b[0m\u001b[0;34m\u001b[0m\u001b[0;34m\u001b[0m\u001b[0m\n\u001b[0m\u001b[1;32m    129\u001b[0m         \u001b[0mself\u001b[0m\u001b[0;34m.\u001b[0m\u001b[0mlog\u001b[0m\u001b[0;34m.\u001b[0m\u001b[0mdebug\u001b[0m\u001b[0;34m(\u001b[0m\u001b[0;34m\"Computed log-likelihood = %s\"\u001b[0m\u001b[0;34m,\u001b[0m \u001b[0mstate\u001b[0m\u001b[0;34m[\u001b[0m\u001b[0;34m\"logp\"\u001b[0m\u001b[0;34m]\u001b[0m\u001b[0;34m)\u001b[0m\u001b[0;34m\u001b[0m\u001b[0;34m\u001b[0m\u001b[0m\n\u001b[1;32m    130\u001b[0m         \u001b[0;32mif\u001b[0m \u001b[0mderived\u001b[0m \u001b[0;32mis\u001b[0m \u001b[0;32mnot\u001b[0m \u001b[0;32mNone\u001b[0m\u001b[0;34m:\u001b[0m\u001b[0;34m\u001b[0m\u001b[0;34m\u001b[0m\u001b[0m\n",
            "\u001b[0;32m/usr/local/lib/python3.12/dist-packages/cobaya/likelihood.py\u001b[0m in \u001b[0;36mlogp\u001b[0;34m(self, **params_values)\u001b[0m\n\u001b[1;32m    212\u001b[0m             \u001b[0mparams_values\u001b[0m\u001b[0;34m[\u001b[0m\u001b[0mself\u001b[0m\u001b[0;34m.\u001b[0m\u001b[0m_self_arg\u001b[0m\u001b[0;34m]\u001b[0m \u001b[0;34m=\u001b[0m \u001b[0mself\u001b[0m\u001b[0;34m\u001b[0m\u001b[0;34m\u001b[0m\u001b[0m\n\u001b[1;32m    213\u001b[0m         \u001b[0;32mtry\u001b[0m\u001b[0;34m:\u001b[0m\u001b[0;34m\u001b[0m\u001b[0;34m\u001b[0m\u001b[0m\n\u001b[0;32m--> 214\u001b[0;31m             \u001b[0mreturn_value\u001b[0m \u001b[0;34m=\u001b[0m \u001b[0mself\u001b[0m\u001b[0;34m.\u001b[0m\u001b[0mexternal_function\u001b[0m\u001b[0;34m(\u001b[0m\u001b[0;34m**\u001b[0m\u001b[0mparams_values\u001b[0m\u001b[0;34m)\u001b[0m\u001b[0;34m\u001b[0m\u001b[0;34m\u001b[0m\u001b[0m\n\u001b[0m\u001b[1;32m    215\u001b[0m         \u001b[0;32mexcept\u001b[0m \u001b[0mException\u001b[0m\u001b[0;34m:\u001b[0m\u001b[0;34m\u001b[0m\u001b[0;34m\u001b[0m\u001b[0m\n\u001b[1;32m    216\u001b[0m             \u001b[0mself\u001b[0m\u001b[0;34m.\u001b[0m\u001b[0mlog\u001b[0m\u001b[0;34m.\u001b[0m\u001b[0mdebug\u001b[0m\u001b[0;34m(\u001b[0m\u001b[0;34m\"External function failed at evaluation.\"\u001b[0m\u001b[0;34m)\u001b[0m\u001b[0;34m\u001b[0m\u001b[0;34m\u001b[0m\u001b[0m\n",
            "\u001b[0;32m/tmp/ipython-input-308125818.py\u001b[0m in \u001b[0;36mloglike_cobaya\u001b[0;34m(H0, M)\u001b[0m\n\u001b[1;32m      1\u001b[0m \u001b[0;32mfrom\u001b[0m \u001b[0mdataclasses\u001b[0m \u001b[0;32mimport\u001b[0m \u001b[0mdataclass\u001b[0m\u001b[0;34m\u001b[0m\u001b[0;34m\u001b[0m\u001b[0m\n\u001b[1;32m      2\u001b[0m \u001b[0;32mdef\u001b[0m \u001b[0mloglike_cobaya\u001b[0m\u001b[0;34m(\u001b[0m\u001b[0mH0\u001b[0m\u001b[0;34m,\u001b[0m \u001b[0mM\u001b[0m\u001b[0;34m)\u001b[0m\u001b[0;34m:\u001b[0m\u001b[0;34m\u001b[0m\u001b[0;34m\u001b[0m\u001b[0m\n\u001b[0;32m----> 3\u001b[0;31m     \u001b[0;32mreturn\u001b[0m \u001b[0;34m-\u001b[0m\u001b[0;36m0.5\u001b[0m \u001b[0;34m*\u001b[0m \u001b[0mchi2\u001b[0m\u001b[0;34m(\u001b[0m\u001b[0mH0\u001b[0m\u001b[0;34m,\u001b[0m \u001b[0mM\u001b[0m\u001b[0;34m,\u001b[0m \u001b[0msn\u001b[0m\u001b[0;34m)\u001b[0m\u001b[0;34m\u001b[0m\u001b[0;34m\u001b[0m\u001b[0m\n\u001b[0m\u001b[1;32m      4\u001b[0m \u001b[0;32mdef\u001b[0m \u001b[0mmu_from_z\u001b[0m\u001b[0;34m(\u001b[0m\u001b[0mz\u001b[0m\u001b[0;34m,\u001b[0m \u001b[0mH0\u001b[0m\u001b[0;34m)\u001b[0m\u001b[0;34m:\u001b[0m\u001b[0;34m\u001b[0m\u001b[0;34m\u001b[0m\u001b[0m\n\u001b[1;32m      5\u001b[0m     \"\"\"Low-z luminosity distance modulus: mu = 5 log10(c z / H0 [Mpc]) + 25.\n",
            "\u001b[0;31mNameError\u001b[0m: name 'sn' is not defined"
          ]
        }
      ],
      "source": [
        "updated_info, sampler = run(info_dict)"
      ]
    },
    {
      "cell_type": "code",
      "source": [],
      "metadata": {
        "id": "WUtmlzbqG3-P"
      },
      "execution_count": null,
      "outputs": []
    }
  ],
  "metadata": {
    "kernelspec": {
      "display_name": "Python 3",
      "language": "python",
      "name": "python3"
    },
    "language_info": {
      "codemirror_mode": {
        "name": "ipython",
        "version": 3
      },
      "file_extension": ".py",
      "mimetype": "text/x-python",
      "name": "python",
      "nbconvert_exporter": "python",
      "pygments_lexer": "ipython3",
      "version": "3.7.6"
    },
    "colab": {
      "provenance": []
    }
  },
  "nbformat": 4,
  "nbformat_minor": 0
}