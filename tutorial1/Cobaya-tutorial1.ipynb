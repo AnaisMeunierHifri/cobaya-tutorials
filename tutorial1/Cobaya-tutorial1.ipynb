{
 "cells": [
  {
   "cell_type": "code",
   "execution_count": null,
   "metadata": {},
   "outputs": [],
   "source": [
    "# General python imports\n",
    "import numpy as np\n",
    "import matplotlib.pyplot as plt\n",
    "from scipy import stats\n",
    "\n",
    "%matplotlib inline\n",
    "%config InlineBackend.figure_format = 'retina'"
   ]
  },
  {
   "cell_type": "markdown",
   "metadata": {},
   "source": [
    "# Attention:\n",
    "\n",
    "Keep always the Cobaya documentation open: https://cobaya.readthedocs.io"
   ]
  },
  {
   "cell_type": "markdown",
   "metadata": {},
   "source": [
    "# Exercise 1:\n",
    "\n",
    "### Use the Metropolis-Hastings MCMC sampler of Cobaya to sample a simple posterior distribution\n",
    "\n",
    "In this exercise, we aim to sample the posterior distribution corresponding to the product of a gaussian mixture likelihood in Cobaya (see https://cobaya.readthedocs.io/en/latest/likelihood_gaussian_mixture.html) and simple priors for the parameters.\n",
    "\n",
    "For that, you need to fill up the blocks `likelihood`, `params` and `sampler` of the configuration dictionary and then run Cobaya."
   ]
  },
  {
   "cell_type": "code",
   "execution_count": null,
   "metadata": {},
   "outputs": [],
   "source": [
    "# Fill the configuration dictionary called 'info' below\n",
    "\n",
    "info = {\n",
    "# We import the likelihood from Cobaya likelihood libraries\n",
    "# 'likelihood': Cobaya's protected key of the input dictionary\n",
    "# The goal is to use a gaussian mixture so you need to define\n",
    "# the means and a covariance matrix\n",
    "    \"likelihood\": {...},\n",
    "# 'params': Cobaya's protected key of the input dictionary. \n",
    "# Includes the parameters that the user would like to sample over\n",
    "# You need to define two parameters a and b which are the means\n",
    "# of the gaussian mixture function above\n",
    "# with their corresponding priors\n",
    "# \n",
    "# use a uniform distribution for a and a gaussian distribution for b\n",
    "# check Cobaya documentation to see how we do define priors\n",
    "    \"params\": {...},\n",
    "# 'sampler': Cobaya's protected key of the input dictionary.\n",
    "# you can choose the sampler you want to use.\n",
    "# Check Cobaya's documentation to see the list of available samplers\n",
    "# Here, we would like to use the usual Metropolis Hastings MC sampler\n",
    "    \"sampler\": {...},\n",
    "# 'force': Cobaya's protected key of the input dictionary.\n",
    "# 'force': True, Cobaya forces deleting the previous output files, if found, with the same name   \n",
    "    \"force\": True,\n",
    "# 'debug': Cobaya's protected key of the input dictionary.\n",
    "# how much information you want Cobaya to print? If debug: True, it prints every single detail\n",
    "# that is going on internally in Cobaya    \n",
    "    \"debug\": False,\n",
    "# 'output': Cobaya's protected key of the input dictionary.\n",
    "# Where are the results going to be stored, in case that the sampler produce output files? \n",
    "# For example: chains...\n",
    "# modify the path below within 'output' to choose a name and a directory for those files\n",
    "    \"output\": {...}}"
   ]
  },
  {
   "cell_type": "code",
   "execution_count": null,
   "metadata": {
    "scrolled": true
   },
   "outputs": [],
   "source": [
    "#  We import Cobaya\n",
    "from cobaya.run import run\n",
    "# Now we run!\n",
    "updated_info, sampler = run(info)"
   ]
  },
  {
   "cell_type": "markdown",
   "metadata": {},
   "source": [
    "### Plot the corresponding distribution using GetDist\n",
    "\n",
    "Do not forget to open the GetDist html DEMO: https://getdist.readthedocs.io/en/latest/plot_gallery.html"
   ]
  },
  {
   "cell_type": "code",
   "execution_count": null,
   "metadata": {},
   "outputs": [],
   "source": [
    "# Import corresponding modules from GetDist\n",
    "from getdist.mcsamples import loadMCSamples, MCSamplesFromCobaya\n",
    "import getdist.plots as gdplt\n",
    "\n",
    "# Load the chains and the updated config file from the previous run\n",
    "gd_sample = MCSamplesFromCobaya(updated_info, sampler.products()[\"sample\"])\n",
    "\n",
    "# Analyze the chains (print the mean and covmat according to GetDist documentation)\n",
    "mean = ...\n",
    "covmat = ...\n",
    "print(\"Mean:\")\n",
    "print(mean)\n",
    "print(\"Covariance matrix:\")\n",
    "print(covmat)\n",
    "\n",
    "# PLOT THE CHAINS (have a look at the DEMO above from GetDist)\n",
    "# The goal is to produce a triangle plot "
   ]
  },
  {
   "cell_type": "markdown",
   "metadata": {},
   "source": [
    "### Now, let's change the likelihood above by a new gaussian ring likelihood defined on cartesian coordinates \n",
    "\n",
    "Cobaya allows to pass self-defined likelihoods as likelihoods of the `likelihood` block."
   ]
  },
  {
   "cell_type": "code",
   "execution_count": null,
   "metadata": {},
   "outputs": [],
   "source": [
    "# We define the new likelihood as a python function\n",
    "# ATTENTION: Cobaya always needs to return the loglike!\n",
    "\n",
    "def gauss_ring_logp(x, y, mean_radius=1, std=0.02):\n",
    "    \"\"\"\n",
    "    Defines a gaussian ring likelihood on cartesian coordinater,\n",
    "    around some ``mean_radius`` and with some ``std``.\n",
    "    \"\"\"\n",
    "    return stats.norm.logpdf(np.sqrt(x**2 + y**2), loc=mean_radius, scale=std)"
   ]
  },
  {
   "cell_type": "code",
   "execution_count": null,
   "metadata": {},
   "outputs": [],
   "source": [
    "# Let's update the new likelihood in the info dictionary above\n",
    "\n",
    "info = {\"likelihood\": {\"ring\": ...}}"
   ]
  },
  {
   "cell_type": "code",
   "execution_count": null,
   "metadata": {},
   "outputs": [],
   "source": [
    "# The new likelihood requests two new parameters: x and y\n",
    "# Therefore, we need to define them in the params block \n",
    "# of the info dictionary above adding a new prior\n",
    "\n",
    "# Use uniform distributions as priors for x and y between 0 and 2\n",
    "\n",
    "info[\"params\"] = {...}"
   ]
  },
  {
   "cell_type": "code",
   "execution_count": null,
   "metadata": {},
   "outputs": [],
   "source": [
    "# We add the polar coordinates theta and radius as derived parameters within the params block\n",
    "\n",
    "def get_r(x, y):\n",
    "    return np.sqrt(x ** 2 + y ** 2)\n",
    "\n",
    "\n",
    "def get_theta(x, y):\n",
    "    return np.arctan(y / x)\n",
    "\n",
    "# Update the params part of the info dictionary with these derived params"
   ]
  },
  {
   "cell_type": "code",
   "execution_count": null,
   "metadata": {},
   "outputs": [],
   "source": [
    "# We add some new conditions in the sampler block, to give extra tries in case the mcmc gets stuck\n",
    "\n",
    "info[\"sampler\"] = {\"mcmc\": {\"Rminus1_stop\": 0.001, \"max_tries\": 1000}}\n",
    "\n",
    "# Re-run cobaya as we did above!"
   ]
  },
  {
   "cell_type": "markdown",
   "metadata": {},
   "source": [
    "### Replot the chains using GetDist\n",
    "\n",
    "We aim to create two triangle plots: one for the cartesian coordinates x and y, and another for the polar coordinates theta and radius"
   ]
  },
  {
   "cell_type": "code",
   "execution_count": null,
   "metadata": {},
   "outputs": [],
   "source": [
    "# Load the chains and the updated config file from the previous run\n",
    "# Make two triangle plots: one for the cartesian coordinates x and y, \n",
    "# and a different triangle plot for the radius and angle theta"
   ]
  },
  {
   "cell_type": "markdown",
   "metadata": {},
   "source": [
    "# Exercise 2:\n",
    "\n",
    "### Make an evaluation of the full posterior of the parameters of $\\Lambda$CDM using BAO + SN + PLANCK18\n",
    "\n",
    "In this exercise, we aim to make an evaluation of the posterior distribution of the Standard Cosmological Model parameters using BAO + SN + PLANCK18 data. \n",
    "\n",
    "For that, you need to create a new config file speciying the corresponding likelihoods, the parameters of the $\\Lambda$CDM model and specify the sampler to `evaluate`.\n",
    "\n",
    "What about the `theory` module? Do you need to specify it? What would you choose?\n",
    "\n",
    "If you feel like working, you can change the sampler `evaluate` to the sampler `mcmc` to explore the full posterior distribution. Attention: it will take around 3 or 4 days. Let it run for one night so that tomorrow you can have a look at the chains.\n",
    "\n",
    "- Check this link to see how you can define the new corresponding config file: https://cobaya.readthedocs.io/en/latest/cosmo_basic_runs.html\n",
    "- All the corresponding likelihood names are within the section “COSMOLOGICAL LIKELIHOODS” at https://cobaya.readthedocs.io/en/latest/"
   ]
  },
  {
   "cell_type": "code",
   "execution_count": null,
   "metadata": {},
   "outputs": [],
   "source": [
    "# You need to start by defining a new config python dictionary \n",
    "# (or if you feel brave, you can write a script like a yaml format\n",
    "# and dump it as a python dictionary)\n",
    "\n",
    "# LCDM has 6 parameters, so you need to define at least 6 parameters \n",
    "# to be sampled from within the `params` block\n",
    "\n",
    "info = {...}"
   ]
  },
  {
   "cell_type": "code",
   "execution_count": null,
   "metadata": {},
   "outputs": [],
   "source": []
  }
 ],
 "metadata": {
  "kernelspec": {
   "display_name": "Python 3",
   "language": "python",
   "name": "python3"
  },
  "language_info": {
   "codemirror_mode": {
    "name": "ipython",
    "version": 3
   },
   "file_extension": ".py",
   "mimetype": "text/x-python",
   "name": "python",
   "nbconvert_exporter": "python",
   "pygments_lexer": "ipython3",
   "version": "3.7.6"
  }
 },
 "nbformat": 4,
 "nbformat_minor": 4
}
